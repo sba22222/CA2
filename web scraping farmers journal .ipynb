{
 "cells": [
  {
   "cell_type": "code",
   "execution_count": 1,
   "id": "d51964ab",
   "metadata": {},
   "outputs": [
    {
     "name": "stdout",
     "output_type": "stream",
     "text": [
      "Requirement already satisfied: beautifulsoup4 in c:\\users\\naomi\\anaconda3\\lib\\site-packages (4.11.1)\n",
      "Requirement already satisfied: soupsieve>1.2 in c:\\users\\naomi\\anaconda3\\lib\\site-packages (from beautifulsoup4) (2.3.1)\n"
     ]
    }
   ],
   "source": [
    "!pip install beautifulsoup4"
   ]
  },
  {
   "cell_type": "code",
   "execution_count": 2,
   "id": "7ef766d8",
   "metadata": {},
   "outputs": [],
   "source": [
    "import requests\n",
    "from bs4 import BeautifulSoup"
   ]
  },
  {
   "cell_type": "code",
   "execution_count": 3,
   "id": "08797fd4",
   "metadata": {},
   "outputs": [],
   "source": [
    "url = \"https://www.farmersjournal.ie/cattle-beef\"\n",
    "response = requests.get(url)\n",
    "html = response.text"
   ]
  },
  {
   "cell_type": "code",
   "execution_count": 5,
   "id": "66d1dcfd",
   "metadata": {},
   "outputs": [],
   "source": [
    "soup = BeautifulSoup(html, \"html.parser\")\n",
    "\n",
    "# Find all articles on the page\n",
    "articles = soup.find_all(\"article\")\n",
    "\n",
    "# Iterate over the articles and extract the title and body\n",
    "for article in articles:\n",
    "    title = article.find(\"h2\").text\n",
    "    body = article.find(\"p\").text\n",
    "\n",
    "    # Filter based on specific topics\n",
    "    if \"cattle\" in title.lower() or \"beef\" in title.lower():\n",
    "        print(title)\n",
    "        print(body)"
   ]
  },
  {
   "cell_type": "markdown",
   "id": "317e2bc3",
   "metadata": {},
   "source": [
    "Take 2"
   ]
  },
  {
   "cell_type": "code",
   "execution_count": 6,
   "id": "bdcab006",
   "metadata": {},
   "outputs": [],
   "source": [
    "url = \"https://www.farmersjournal.ie/market-prices/beef-and-cattle-prices/\"\n",
    "page = requests.get(url)"
   ]
  },
  {
   "cell_type": "code",
   "execution_count": 7,
   "id": "477823a3",
   "metadata": {},
   "outputs": [],
   "source": [
    "soup = BeautifulSoup(page.content, 'html.parser')"
   ]
  },
  {
   "cell_type": "code",
   "execution_count": 8,
   "id": "ebe21b9e",
   "metadata": {},
   "outputs": [],
   "source": [
    "prices_table = soup.find_all('tr', class_=\"market-prices\")"
   ]
  },
  {
   "cell_type": "code",
   "execution_count": 9,
   "id": "120a334d",
   "metadata": {},
   "outputs": [],
   "source": [
    "for row in prices_table:\n",
    "    print(row.text)"
   ]
  },
  {
   "cell_type": "code",
   "execution_count": null,
   "id": "51ad2522",
   "metadata": {},
   "outputs": [],
   "source": []
  }
 ],
 "metadata": {
  "kernelspec": {
   "display_name": "Python 3 (ipykernel)",
   "language": "python",
   "name": "python3"
  },
  "language_info": {
   "codemirror_mode": {
    "name": "ipython",
    "version": 3
   },
   "file_extension": ".py",
   "mimetype": "text/x-python",
   "name": "python",
   "nbconvert_exporter": "python",
   "pygments_lexer": "ipython3",
   "version": "3.9.12"
  }
 },
 "nbformat": 4,
 "nbformat_minor": 5
}
