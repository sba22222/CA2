{
 "cells": [
  {
   "cell_type": "markdown",
   "id": "bc8c7b48",
   "metadata": {},
   "source": [
    "Checklist:\n",
    "* make sure there are comments in every cell\n",
    "* make sure all the libraries are just in the top of the notebook\n",
    "* do not repeat code, define functions instead\n",
    "* get mum to read through markdown cells\n",
    "* make sure decision tree and random forest is destinctive labels ie dt_regressor, rf_regressor\n",
    "* always say print(df) not just df\n",
    "* make cool plots\n",
    "* fix the supervised learning model table. Maybe reduce it to 6 decimal places"
   ]
  },
  {
   "cell_type": "markdown",
   "id": "efbf1d95",
   "metadata": {},
   "source": [
    "**Colours for Visuals** <br>\n",
    "Green = Ireland <br>\n",
    "Blue = France <br>\n",
    "Yellow = Feed <br>\n",
    "Orange = Cattle <br>"
   ]
  },
  {
   "cell_type": "markdown",
   "id": "2db2f501",
   "metadata": {},
   "source": [
    "## Comparing beef prices for carcasses in Ireland and France\n",
    "### A data science approach to investigation into the price of beef carcasses in Ireland and France using data from [European Commission](https://agridata.ec.europa.eu/extensions/DashboardBeef/BeefPricesExt.html#)\n",
    "#### Naomi Tunstead - sba22222\n",
    "#### MSc in Data Analytics\n",
    "#### MSC_DA_CA2"
   ]
  },
  {
   "cell_type": "code",
   "execution_count": 1,
   "id": "e152c9f9",
   "metadata": {},
   "outputs": [],
   "source": [
    "#!pip install prettytable"
   ]
  },
  {
   "cell_type": "code",
   "execution_count": 2,
   "id": "d05a3c33",
   "metadata": {},
   "outputs": [],
   "source": [
    "# Read in libraries needed for analysis\n",
    "import warnings\n",
    "warnings.filterwarnings(\"ignore\")\n",
    "import pandas as pd\n",
    "import numpy as np\n",
    "import matplotlib.pyplot as plt\n",
    "import seaborn as sns\n",
    "import scipy.stats as stats\n",
    "import statsmodels.api as sm\n",
    "from datetime import timedelta\n",
    "from scipy.stats import mannwhitneyu\n",
    "from scipy.stats import chi2_contingency\n",
    "from scipy.stats import f_oneway\n",
    "from sklearn.model_selection import GridSearchCV\n",
    "from sklearn.tree import DecisionTreeRegressor\n",
    "from sklearn.metrics import accuracy_score, precision_score, recall_score\n",
    "from sklearn import metrics\n",
    "from sklearn import tree\n",
    "from sklearn.ensemble import RandomForestRegressor, GradientBoostingRegressor\n",
    "from sklearn.linear_model import LinearRegression, Ridge, Lasso\n",
    "from sklearn.model_selection import GridSearchCV\n",
    "from sklearn.model_selection import train_test_split\n",
    "from sklearn.metrics import mean_squared_error\n",
    "from prettytable import PrettyTable"
   ]
  },
  {
   "cell_type": "code",
   "execution_count": 3,
   "id": "3eb27cd1",
   "metadata": {},
   "outputs": [],
   "source": [
    "# Define functions\n",
    "def plot_histogram(df, column_name, title, xlabel):\n",
    "    sns.histplot(data = df, x = column_name, bins = 20, kde = True, color = 'y')\n",
    "    plt.title(title)\n",
    "    plt.xlabel(xlabel)\n",
    "    plt.ylabel('Frequency')\n",
    "    \n",
    "def shapiro_test(x, color='green'):\n",
    "    p_val = stats.shapiro(x)[1]\n",
    "    status = 'passed'\n",
    "    if p_val < 0.05:\n",
    "        status = 'failed'\n",
    "        color = 'red'\n",
    "    return status, color, p_val\n",
    "\n",
    "def custom_density_plot(df, countries, y_col, main_title, xlabel, ylabel, density_plot_title, box_plot_title):\n",
    "    # Create the subplots\n",
    "    fig, ax = plt.subplots(1, 2, figsize=(18, 6))\n",
    "    \n",
    "    # Plot the density plots\n",
    "    colors = ['green', 'blue']\n",
    "    for i, country in enumerate(countries):\n",
    "        data = df[df['Member State'] == country][y_col]\n",
    "        sns.kdeplot(data, color=colors[i], label=country, ax=ax[0])\n",
    "    ax[0].set_title(density_plot_title)\n",
    "    \n",
    "    # Plot the box plots\n",
    "    sns.boxplot(x='Member State', y=y_col, data=df, hue='Member State', palette=['green', 'blue'], ax=ax[1])\n",
    "    ax[1].set_title(box_plot_title)\n",
    "    \n",
    "    # Create the Q-Q plots\n",
    "    fig, ax = plt.subplots(1, 2, figsize=(12, 6), sharex=True)\n",
    "    sm.qqplot(df[df['Member State'] == 'Ireland'][y_col], ax=ax[0], line='s', color='green')\n",
    "    ax[0].set_title('Q-Q Plot of {} in Ireland'.format(ylabel))\n",
    "    ax[0].set_xlabel('Theoretical Quantiles')\n",
    "    ax[0].set_ylabel('Sample Quantiles')\n",
    "    sm.qqplot(df[df['Member State'] == 'France'][y_col], ax=ax[1], line='s', color='blue')\n",
    "    ax[1].set_title('Q-Q Plot of {} in France'.format(ylabel))\n",
    "    ax[1].set_xlabel('Theoretical Quantiles')\n",
    "    ax[1].set_ylabel('Sample Quantiles')\n",
    "    \n",
    "    # Set the main title of the figure\n",
    "    fig.suptitle(main_title)\n",
    "    \n",
    "    # Perform the Shapiro-Wilk test on the data\n",
    "    status, color, p_val = shapiro_test(df[y_col])\n",
    "    \n",
    "    # Set the title of the Q-Q plot figure to include the result of the normality test\n",
    "    fig.suptitle('{} (p_value = {})'.format(status, p_val), color=color, fontsize=12)"
   ]
  },
  {
   "cell_type": "code",
   "execution_count": 4,
   "id": "6d1cb206",
   "metadata": {},
   "outputs": [],
   "source": [
    "# Read the xlsx files\n",
    "df_cattle = pd.read_excel('ireland_france_2_years_beef.xlsx')\n",
    "df_feed = pd.read_excel('barley_prices.xlsx')"
   ]
  },
  {
   "cell_type": "code",
   "execution_count": 5,
   "id": "6be571b8",
   "metadata": {},
   "outputs": [
    {
     "name": "stdout",
     "output_type": "stream",
     "text": [
      "      Year  Week Begin Date   End Date Member State      Category Product  \\\n",
      "0     2022    50 2022-12-12 2022-12-18      Ireland  Young cattle    Z O3   \n",
      "1     2022    50 2022-12-12 2022-12-18      Ireland  Young cattle    Z O2   \n",
      "2     2022    50 2022-12-12 2022-12-18      Ireland  Young cattle    Z U3   \n",
      "3     2022    50 2022-12-12 2022-12-18      Ireland  Young cattle    Z R3   \n",
      "4     2022    50 2022-12-12 2022-12-18      Ireland  Young cattle    Z R2   \n",
      "...    ...   ...        ...        ...          ...           ...     ...   \n",
      "6145  2021     3 2021-01-18 2021-01-24       France         Bulls    B R3   \n",
      "6146  2021     2 2021-01-11 2021-01-17      Ireland         Bulls    B R3   \n",
      "6147  2021     2 2021-01-11 2021-01-17       France         Bulls    B R3   \n",
      "6148  2021     1 2021-01-04 2021-01-10      Ireland         Bulls    B R3   \n",
      "6149  2021     1 2021-01-04 2021-01-10       France         Bulls    B R3   \n",
      "\n",
      "       Price  \n",
      "0     406.10  \n",
      "1     416.31  \n",
      "2     491.00  \n",
      "3     497.31  \n",
      "4     510.00  \n",
      "...      ...  \n",
      "6145  302.00  \n",
      "6146  272.63  \n",
      "6147  301.00  \n",
      "6148  282.74  \n",
      "6149  305.00  \n",
      "\n",
      "[6150 rows x 8 columns]\n"
     ]
    }
   ],
   "source": [
    "# Print the cattle DataFrame\n",
    "print(df_cattle)"
   ]
  },
  {
   "cell_type": "code",
   "execution_count": 6,
   "id": "35945f5a",
   "metadata": {},
   "outputs": [
    {
     "name": "stdout",
     "output_type": "stream",
     "text": [
      "    Marketing Year Reference period Member State Product Name  \\\n",
      "0        2022/2023       2022-07-14       France  Feed barley   \n",
      "1        2022/2023       2022-07-14      Ireland  Feed barley   \n",
      "2        2022/2023       2022-07-21       France  Feed barley   \n",
      "3        2022/2023       2022-07-21      Ireland  Feed barley   \n",
      "4        2022/2023       2022-07-28       France  Feed barley   \n",
      "..             ...              ...          ...          ...   \n",
      "236      2020/2021       2021-06-17      Ireland  Feed barley   \n",
      "237      2020/2021       2021-06-24       France  Feed barley   \n",
      "238      2020/2021       2021-06-24      Ireland  Feed barley   \n",
      "239      2020/2021       2021-07-01       France  Feed barley   \n",
      "240      2020/2021       2021-07-01      Ireland  Feed barley   \n",
      "\n",
      "                    Market Name  \\\n",
      "0                         Rouen   \n",
      "1    Dublin/North East/Midlands   \n",
      "2                         Rouen   \n",
      "3    Dublin/North East/Midlands   \n",
      "4                         Rouen   \n",
      "..                          ...   \n",
      "236  Dublin/North East/Midlands   \n",
      "237                       Rouen   \n",
      "238  Dublin/North East/Midlands   \n",
      "239                       Rouen   \n",
      "240  Dublin/North East/Midlands   \n",
      "\n",
      "                                            Stage Name  Price (€/Tonne)  \n",
      "0    Delivered to port - grain delivered to a port ...           300.25  \n",
      "1    Deliver to first customer - silo or processing...           380.00  \n",
      "2    Delivered to port - grain delivered to a port ...           300.25  \n",
      "3    Deliver to first customer - silo or processing...           325.00  \n",
      "4    Delivered to port - grain delivered to a port ...           292.50  \n",
      "..                                                 ...              ...  \n",
      "236  Deliver to first customer - silo or processing...           238.00  \n",
      "237  Delivered to port - grain delivered to a port ...           217.50  \n",
      "238  Deliver to first customer - silo or processing...           240.00  \n",
      "239  Delivered to port - grain delivered to a port ...           204.50  \n",
      "240  Deliver to first customer - silo or processing...           240.00  \n",
      "\n",
      "[241 rows x 7 columns]\n"
     ]
    }
   ],
   "source": [
    "# Print the feed DataFrame\n",
    "print(df_feed)"
   ]
  },
  {
   "cell_type": "code",
   "execution_count": 7,
   "id": "a63fd21a",
   "metadata": {},
   "outputs": [
    {
     "name": "stdout",
     "output_type": "stream",
     "text": [
      "      Year  Week Begin Date Member State      Category   Price\n",
      "0     2022    50 2022-12-12      Ireland  Young cattle  406.10\n",
      "1     2022    50 2022-12-12      Ireland  Young cattle  416.31\n",
      "2     2022    50 2022-12-12      Ireland  Young cattle  491.00\n",
      "3     2022    50 2022-12-12      Ireland  Young cattle  497.31\n",
      "4     2022    50 2022-12-12      Ireland  Young cattle  510.00\n",
      "...    ...   ...        ...          ...           ...     ...\n",
      "6145  2021     3 2021-01-18       France         Bulls  302.00\n",
      "6146  2021     2 2021-01-11      Ireland         Bulls  272.63\n",
      "6147  2021     2 2021-01-11       France         Bulls  301.00\n",
      "6148  2021     1 2021-01-04      Ireland         Bulls  282.74\n",
      "6149  2021     1 2021-01-04       France         Bulls  305.00\n",
      "\n",
      "[6150 rows x 6 columns]\n"
     ]
    }
   ],
   "source": [
    "# Drop the 'End Date' and 'Week' column because its is not useful \n",
    "df_cattle = df_cattle.drop(columns=['End Date', 'Product'])\n",
    "\n",
    "# Check result\n",
    "print(df_cattle)"
   ]
  },
  {
   "cell_type": "code",
   "execution_count": 8,
   "id": "81832c6e",
   "metadata": {},
   "outputs": [
    {
     "name": "stdout",
     "output_type": "stream",
     "text": [
      "         Year    Week   Price\n",
      "count 6150.00 6150.00 6150.00\n",
      "mean  2021.48   25.69  423.03\n",
      "std      0.50   14.71   70.99\n",
      "min   2021.00    1.00  182.00\n",
      "25%   2021.00   13.00  375.02\n",
      "50%   2021.00   25.00  420.93\n",
      "75%   2022.00   38.00  473.93\n",
      "max   2022.00   52.00  731.00\n"
     ]
    }
   ],
   "source": [
    "# Use df_cattle.describe() to get summary statistics of the data\n",
    "# This can help us understand the distribution and overall characteristics of the data\n",
    "pd.set_option('display.float_format', '{:.2f}'.format)\n",
    "\n",
    "# Check result\n",
    "print(df_cattle.describe())"
   ]
  },
  {
   "cell_type": "code",
   "execution_count": 9,
   "id": "8489c213",
   "metadata": {},
   "outputs": [
    {
     "name": "stdout",
     "output_type": "stream",
     "text": [
      "       Price (€/Tonne)\n",
      "count           241.00\n",
      "mean            260.91\n",
      "std              69.64\n",
      "min             161.50\n",
      "25%             205.00\n",
      "50%             240.00\n",
      "75%             308.00\n",
      "max             420.00\n"
     ]
    }
   ],
   "source": [
    "# Generate descriptive statistics of the data\n",
    "pd.set_option('display.float_format', '{:.2f}'.format)\n",
    "\n",
    "# Check result\n",
    "print(df_feed.describe())"
   ]
  },
  {
   "cell_type": "code",
   "execution_count": 10,
   "id": "328aaed0",
   "metadata": {},
   "outputs": [],
   "source": [
    "# Rename 'Begin Date' column to 'Reference period' so that we can used this column to merge the feed DataFrame\n",
    "df_cattle = df_cattle.rename(columns={'Begin Date': 'Reference period'})"
   ]
  },
  {
   "cell_type": "code",
   "execution_count": 11,
   "id": "539f1bc9",
   "metadata": {},
   "outputs": [
    {
     "name": "stdout",
     "output_type": "stream",
     "text": [
      "    Reference period Member State  Price (€/Tonne)\n",
      "0         2022-07-14       France           300.25\n",
      "1         2022-07-14      Ireland           380.00\n",
      "2         2022-07-21       France           300.25\n",
      "3         2022-07-21      Ireland           325.00\n",
      "4         2022-07-28       France           292.50\n",
      "..               ...          ...              ...\n",
      "236       2021-06-17      Ireland           238.00\n",
      "237       2021-06-24       France           217.50\n",
      "238       2021-06-24      Ireland           240.00\n",
      "239       2021-07-01       France           204.50\n",
      "240       2021-07-01      Ireland           240.00\n",
      "\n",
      "[241 rows x 3 columns]\n"
     ]
    }
   ],
   "source": [
    "# Drop the 'Market Name', 'Stage Name' and 'Marketing Year' columns as they are not of interest\n",
    "df_feed = df_feed.drop(columns=['Market Name', 'Stage Name', 'Marketing Year', 'Product Name'])\n",
    "\n",
    "# Check result\n",
    "print(df_feed)"
   ]
  },
  {
   "cell_type": "code",
   "execution_count": 12,
   "id": "41a3b390",
   "metadata": {},
   "outputs": [
    {
     "name": "stdout",
     "output_type": "stream",
     "text": [
      "<class 'pandas.core.frame.DataFrame'>\n",
      "RangeIndex: 6150 entries, 0 to 6149\n",
      "Data columns (total 6 columns):\n",
      " #   Column            Non-Null Count  Dtype         \n",
      "---  ------            --------------  -----         \n",
      " 0   Year              6150 non-null   int64         \n",
      " 1   Week              6150 non-null   int64         \n",
      " 2   Reference period  6150 non-null   datetime64[ns]\n",
      " 3   Member State      6150 non-null   object        \n",
      " 4   Category          6150 non-null   object        \n",
      " 5   Price             6150 non-null   float64       \n",
      "dtypes: datetime64[ns](1), float64(1), int64(2), object(2)\n",
      "memory usage: 288.4+ KB\n"
     ]
    }
   ],
   "source": [
    "# Check the datatypes for each column and determine if they are correct or not\n",
    "df_cattle.info()"
   ]
  },
  {
   "cell_type": "code",
   "execution_count": 13,
   "id": "d5cd618a",
   "metadata": {},
   "outputs": [
    {
     "name": "stdout",
     "output_type": "stream",
     "text": [
      "<class 'pandas.core.frame.DataFrame'>\n",
      "RangeIndex: 241 entries, 0 to 240\n",
      "Data columns (total 3 columns):\n",
      " #   Column            Non-Null Count  Dtype         \n",
      "---  ------            --------------  -----         \n",
      " 0   Reference period  241 non-null    datetime64[ns]\n",
      " 1   Member State      241 non-null    object        \n",
      " 2   Price (€/Tonne)   241 non-null    float64       \n",
      "dtypes: datetime64[ns](1), float64(1), object(1)\n",
      "memory usage: 5.8+ KB\n"
     ]
    }
   ],
   "source": [
    "# Check the datatypes for each column and determine if they are correct or not\n",
    "df_feed.info()"
   ]
  },
  {
   "cell_type": "code",
   "execution_count": 14,
   "id": "b730fc59",
   "metadata": {},
   "outputs": [
    {
     "name": "stdout",
     "output_type": "stream",
     "text": [
      "    Reference period Member State  Price (€/Tonne)\n",
      "0         2022-07-11       France           300.25\n",
      "1         2022-07-11      Ireland           380.00\n",
      "2         2022-07-18       France           300.25\n",
      "3         2022-07-18      Ireland           325.00\n",
      "4         2022-07-25       France           292.50\n",
      "..               ...          ...              ...\n",
      "236       2021-06-14      Ireland           238.00\n",
      "237       2021-06-21       France           217.50\n",
      "238       2021-06-21      Ireland           240.00\n",
      "239       2021-06-28       France           204.50\n",
      "240       2021-06-28      Ireland           240.00\n",
      "\n",
      "[241 rows x 3 columns]\n"
     ]
    }
   ],
   "source": [
    "# Change all the Reference periods for df_feed to be 3 days previously to align them with the Reference period in df_cattle\n",
    "df_feed[\"Reference period\"] = df_feed[\"Reference period\"].apply(lambda x: x - timedelta(days=3))\n",
    "\n",
    "# Check result\n",
    "print(df_feed)"
   ]
  },
  {
   "cell_type": "code",
   "execution_count": 15,
   "id": "349de7bc",
   "metadata": {},
   "outputs": [],
   "source": [
    "# Sort the DataFrame by the \"Age\" column in descending order\n",
    "df_feed = df_feed.sort_values(by='Reference period', ascending=True)"
   ]
  },
  {
   "cell_type": "code",
   "execution_count": 16,
   "id": "d231482e",
   "metadata": {},
   "outputs": [],
   "source": [
    "# Set the maximum number of rows and columns to be displayed to 1000 in order to show the whole DataFrame to check results\n",
    "# pd.options.display.max_rows = 1000\n",
    "# pd.options.display.max_columns = 1000\n",
    "\n",
    "# Check results\n",
    "# df_feed"
   ]
  },
  {
   "cell_type": "code",
   "execution_count": 17,
   "id": "d5778ca1",
   "metadata": {},
   "outputs": [
    {
     "name": "stdout",
     "output_type": "stream",
     "text": [
      "      Year  Week Reference period Member State      Category  Price  \\\n",
      "0     2022    50       2022-12-12      Ireland  Young cattle 406.10   \n",
      "1     2022    50       2022-12-12      Ireland  Young cattle 416.31   \n",
      "2     2022    50       2022-12-12      Ireland  Young cattle 491.00   \n",
      "3     2022    50       2022-12-12      Ireland  Young cattle 497.31   \n",
      "4     2022    50       2022-12-12      Ireland  Young cattle 510.00   \n",
      "...    ...   ...              ...          ...           ...    ...   \n",
      "6145  2021     3       2021-01-18       France         Bulls 302.00   \n",
      "6146  2021     2       2021-01-11      Ireland         Bulls 272.63   \n",
      "6147  2021     2       2021-01-11       France         Bulls 301.00   \n",
      "6148  2021     1       2021-01-04      Ireland         Bulls 282.74   \n",
      "6149  2021     1       2021-01-04       France         Bulls 305.00   \n",
      "\n",
      "      Price (€/Tonne)  \n",
      "0              298.00  \n",
      "1              298.00  \n",
      "2              298.00  \n",
      "3              298.00  \n",
      "4              298.00  \n",
      "...               ...  \n",
      "6145           216.08  \n",
      "6146           197.00  \n",
      "6147           204.08  \n",
      "6148           196.00  \n",
      "6149              NaN  \n",
      "\n",
      "[6150 rows x 7 columns]\n"
     ]
    }
   ],
   "source": [
    "# Perform a left join on the two DataFrames\n",
    "df = df_cattle.merge(df_feed, on=['Reference period', 'Member State'], how='left')\n",
    "\n",
    "# Check result\n",
    "print(df)"
   ]
  },
  {
   "cell_type": "code",
   "execution_count": 18,
   "id": "75d0a34d",
   "metadata": {},
   "outputs": [],
   "source": [
    "# Rename columns 'Price' and 'Price (€/Tonne)' to 'Cattle Price' and 'Feed Price (€/Tonne)' so there is no confusion\n",
    "df = df.rename(columns={'Price': 'Cattle Price', 'Price (€/Tonne)': 'Feed Price (€/Tonne)'})"
   ]
  },
  {
   "cell_type": "code",
   "execution_count": 19,
   "id": "83425a9b",
   "metadata": {},
   "outputs": [
    {
     "data": {
      "text/plain": [
       "Year                      0\n",
       "Week                      0\n",
       "Reference period          0\n",
       "Member State              0\n",
       "Category                  0\n",
       "Cattle Price              0\n",
       "Feed Price (€/Tonne)    317\n",
       "dtype: int64"
      ]
     },
     "execution_count": 19,
     "metadata": {},
     "output_type": "execute_result"
    }
   ],
   "source": [
    "# Count the number of null values in each column\n",
    "df.isnull().sum()"
   ]
  },
  {
   "cell_type": "code",
   "execution_count": 20,
   "id": "1d7a6a0c",
   "metadata": {},
   "outputs": [],
   "source": [
    "# Drop the 'Reference period' as it has a data type of datetime64[ns] which may cause problem with our model later\n",
    "df = df.drop(columns=['Reference period'])"
   ]
  },
  {
   "cell_type": "code",
   "execution_count": 21,
   "id": "313399b1",
   "metadata": {},
   "outputs": [],
   "source": [
    "# Swap 'Price' column to be target variable\n",
    "df = df[['Year', 'Week', 'Member State', 'Feed Price (€/Tonne)', 'Category', 'Cattle Price']]"
   ]
  },
  {
   "cell_type": "code",
   "execution_count": 22,
   "id": "e4d1f62f",
   "metadata": {},
   "outputs": [
    {
     "data": {
      "image/png": "[encoded data removed]",
      "text/plain": [
       "<Figure size 640x480 with 1 Axes>"
      ]
     },
     "metadata": {},
     "output_type": "display_data"
    }
   ],
   "source": [
    "# Plot distribution of 'Price (€/Tonne)' before imputation of missing values\n",
    "plot_histogram(df, 'Feed Price (€/Tonne)', 'Distribution of Feed Price', 'Feed Price (€/Tonne)')\n",
    "\n",
    "# Save the image else where to be used in report\n",
    "plt.savefig('./Images/Img1_before_imputation_histogram.svg')"
   ]
  },
  {
   "cell_type": "code",
   "execution_count": 23,
   "id": "2c8239f9",
   "metadata": {},
   "outputs": [
    {
     "data": {
      "text/html": [
       "<div>\n",
       "<style scoped>\n",
       "    .dataframe tbody tr th:only-of-type {\n",
       "        vertical-align: middle;\n",
       "    }\n",
       "\n",
       "    .dataframe tbody tr th {\n",
       "        vertical-align: top;\n",
       "    }\n",
       "\n",
       "    .dataframe thead th {\n",
       "        text-align: right;\n",
       "    }\n",
       "</style>\n",
       "<table border=\"1\" class=\"dataframe\">\n",
       "  <thead>\n",
       "    <tr style=\"text-align: right;\">\n",
       "      <th></th>\n",
       "      <th>Year</th>\n",
       "      <th>Week</th>\n",
       "      <th>Member State</th>\n",
       "      <th>Feed Price (€/Tonne)</th>\n",
       "      <th>Category</th>\n",
       "      <th>Cattle Price</th>\n",
       "    </tr>\n",
       "  </thead>\n",
       "  <tbody>\n",
       "    <tr>\n",
       "      <th>0</th>\n",
       "      <td>2022</td>\n",
       "      <td>50</td>\n",
       "      <td>Ireland</td>\n",
       "      <td>298.00</td>\n",
       "      <td>Young cattle</td>\n",
       "      <td>406.10</td>\n",
       "    </tr>\n",
       "    <tr>\n",
       "      <th>1</th>\n",
       "      <td>2022</td>\n",
       "      <td>50</td>\n",
       "      <td>Ireland</td>\n",
       "      <td>298.00</td>\n",
       "      <td>Young cattle</td>\n",
       "      <td>416.31</td>\n",
       "    </tr>\n",
       "    <tr>\n",
       "      <th>2</th>\n",
       "      <td>2022</td>\n",
       "      <td>50</td>\n",
       "      <td>Ireland</td>\n",
       "      <td>298.00</td>\n",
       "      <td>Young cattle</td>\n",
       "      <td>491.00</td>\n",
       "    </tr>\n",
       "    <tr>\n",
       "      <th>3</th>\n",
       "      <td>2022</td>\n",
       "      <td>50</td>\n",
       "      <td>Ireland</td>\n",
       "      <td>298.00</td>\n",
       "      <td>Young cattle</td>\n",
       "      <td>497.31</td>\n",
       "    </tr>\n",
       "    <tr>\n",
       "      <th>4</th>\n",
       "      <td>2022</td>\n",
       "      <td>50</td>\n",
       "      <td>Ireland</td>\n",
       "      <td>298.00</td>\n",
       "      <td>Young cattle</td>\n",
       "      <td>510.00</td>\n",
       "    </tr>\n",
       "    <tr>\n",
       "      <th>...</th>\n",
       "      <td>...</td>\n",
       "      <td>...</td>\n",
       "      <td>...</td>\n",
       "      <td>...</td>\n",
       "      <td>...</td>\n",
       "      <td>...</td>\n",
       "    </tr>\n",
       "    <tr>\n",
       "      <th>6145</th>\n",
       "      <td>2021</td>\n",
       "      <td>3</td>\n",
       "      <td>France</td>\n",
       "      <td>216.08</td>\n",
       "      <td>Bulls</td>\n",
       "      <td>302.00</td>\n",
       "    </tr>\n",
       "    <tr>\n",
       "      <th>6146</th>\n",
       "      <td>2021</td>\n",
       "      <td>2</td>\n",
       "      <td>Ireland</td>\n",
       "      <td>197.00</td>\n",
       "      <td>Bulls</td>\n",
       "      <td>272.63</td>\n",
       "    </tr>\n",
       "    <tr>\n",
       "      <th>6147</th>\n",
       "      <td>2021</td>\n",
       "      <td>2</td>\n",
       "      <td>France</td>\n",
       "      <td>204.08</td>\n",
       "      <td>Bulls</td>\n",
       "      <td>301.00</td>\n",
       "    </tr>\n",
       "    <tr>\n",
       "      <th>6148</th>\n",
       "      <td>2021</td>\n",
       "      <td>1</td>\n",
       "      <td>Ireland</td>\n",
       "      <td>196.00</td>\n",
       "      <td>Bulls</td>\n",
       "      <td>282.74</td>\n",
       "    </tr>\n",
       "    <tr>\n",
       "      <th>6149</th>\n",
       "      <td>2021</td>\n",
       "      <td>1</td>\n",
       "      <td>France</td>\n",
       "      <td>NaN</td>\n",
       "      <td>Bulls</td>\n",
       "      <td>305.00</td>\n",
       "    </tr>\n",
       "  </tbody>\n",
       "</table>\n",
       "<p>6150 rows × 6 columns</p>\n",
       "</div>"
      ],
      "text/plain": [
       "      Year  Week Member State  Feed Price (€/Tonne)      Category  \\\n",
       "0     2022    50      Ireland                298.00  Young cattle   \n",
       "1     2022    50      Ireland                298.00  Young cattle   \n",
       "2     2022    50      Ireland                298.00  Young cattle   \n",
       "3     2022    50      Ireland                298.00  Young cattle   \n",
       "4     2022    50      Ireland                298.00  Young cattle   \n",
       "...    ...   ...          ...                   ...           ...   \n",
       "6145  2021     3       France                216.08         Bulls   \n",
       "6146  2021     2      Ireland                197.00         Bulls   \n",
       "6147  2021     2       France                204.08         Bulls   \n",
       "6148  2021     1      Ireland                196.00         Bulls   \n",
       "6149  2021     1       France                   NaN         Bulls   \n",
       "\n",
       "      Cattle Price  \n",
       "0           406.10  \n",
       "1           416.31  \n",
       "2           491.00  \n",
       "3           497.31  \n",
       "4           510.00  \n",
       "...            ...  \n",
       "6145        302.00  \n",
       "6146        272.63  \n",
       "6147        301.00  \n",
       "6148        282.74  \n",
       "6149        305.00  \n",
       "\n",
       "[6150 rows x 6 columns]"
      ]
     },
     "execution_count": 23,
     "metadata": {},
     "output_type": "execute_result"
    }
   ],
   "source": [
    "df"
   ]
  },
  {
   "cell_type": "code",
   "execution_count": 24,
   "id": "59ebfcb1",
   "metadata": {},
   "outputs": [
    {
     "ename": "AttributeError",
     "evalue": "'DataFrame' object has no attribute 'interactive'",
     "output_type": "error",
     "traceback": [
      "\u001b[1;31m---------------------------------------------------------------------------\u001b[0m",
      "\u001b[1;31mAttributeError\u001b[0m                            Traceback (most recent call last)",
      "Cell \u001b[1;32mIn[24], line 3\u001b[0m\n\u001b[0;32m      1\u001b[0m \u001b[38;5;28;01mimport\u001b[39;00m \u001b[38;5;21;01mpanel\u001b[39;00m \u001b[38;5;28;01mas\u001b[39;00m \u001b[38;5;21;01mpn\u001b[39;00m\n\u001b[1;32m----> 3\u001b[0m df \u001b[38;5;241m=\u001b[39m \u001b[43m(\u001b[49m\u001b[43mdf\u001b[49m\u001b[43m)\u001b[49m\u001b[38;5;241;43m.\u001b[39;49m\u001b[43minteractive\u001b[49m\n\u001b[0;32m      5\u001b[0m \u001b[38;5;66;03m# Get a list of unique member states\u001b[39;00m\n\u001b[0;32m      6\u001b[0m member_states \u001b[38;5;241m=\u001b[39m df[\u001b[38;5;124m'\u001b[39m\u001b[38;5;124mMember State\u001b[39m\u001b[38;5;124m'\u001b[39m]\u001b[38;5;241m.\u001b[39munique()\u001b[38;5;241m.\u001b[39mtolist()\n",
      "File \u001b[1;32m~\\anaconda3\\lib\\site-packages\\pandas\\core\\generic.py:5575\u001b[0m, in \u001b[0;36mNDFrame.__getattr__\u001b[1;34m(self, name)\u001b[0m\n\u001b[0;32m   5568\u001b[0m \u001b[38;5;28;01mif\u001b[39;00m (\n\u001b[0;32m   5569\u001b[0m     name \u001b[38;5;129;01mnot\u001b[39;00m \u001b[38;5;129;01min\u001b[39;00m \u001b[38;5;28mself\u001b[39m\u001b[38;5;241m.\u001b[39m_internal_names_set\n\u001b[0;32m   5570\u001b[0m     \u001b[38;5;129;01mand\u001b[39;00m name \u001b[38;5;129;01mnot\u001b[39;00m \u001b[38;5;129;01min\u001b[39;00m \u001b[38;5;28mself\u001b[39m\u001b[38;5;241m.\u001b[39m_metadata\n\u001b[0;32m   5571\u001b[0m     \u001b[38;5;129;01mand\u001b[39;00m name \u001b[38;5;129;01mnot\u001b[39;00m \u001b[38;5;129;01min\u001b[39;00m \u001b[38;5;28mself\u001b[39m\u001b[38;5;241m.\u001b[39m_accessors\n\u001b[0;32m   5572\u001b[0m     \u001b[38;5;129;01mand\u001b[39;00m \u001b[38;5;28mself\u001b[39m\u001b[38;5;241m.\u001b[39m_info_axis\u001b[38;5;241m.\u001b[39m_can_hold_identifiers_and_holds_name(name)\n\u001b[0;32m   5573\u001b[0m ):\n\u001b[0;32m   5574\u001b[0m     \u001b[38;5;28;01mreturn\u001b[39;00m \u001b[38;5;28mself\u001b[39m[name]\n\u001b[1;32m-> 5575\u001b[0m \u001b[38;5;28;01mreturn\u001b[39;00m \u001b[38;5;28;43mobject\u001b[39;49m\u001b[38;5;241;43m.\u001b[39;49m\u001b[38;5;21;43m__getattribute__\u001b[39;49m\u001b[43m(\u001b[49m\u001b[38;5;28;43mself\u001b[39;49m\u001b[43m,\u001b[49m\u001b[43m \u001b[49m\u001b[43mname\u001b[49m\u001b[43m)\u001b[49m\n",
      "\u001b[1;31mAttributeError\u001b[0m: 'DataFrame' object has no attribute 'interactive'"
     ]
    }
   ],
   "source": [
    "import panel as pn\n",
    "\n",
    "df = (df).interactive\n",
    "\n",
    "# Get a list of unique member states\n",
    "member_states = df['Member State'].unique().tolist()\n",
    "# Get a list of unique categories\n",
    "categories = df['Category'].unique().tolist()\n",
    "\n",
    "# Define a MultiSelect widget for the Category filter\n",
    "category_select = pn.widgets.MultiSelect(name='Category', options=categories)\n",
    "# Define a slider widget for the Year and Week filter\n",
    "year_slider = pn.widgets.IntSlider(name='Year', start=2021, end=2022, step=1)\n",
    "week_slider = pn.widgets.IntSlider(name='Week', start=1, end=52, step=1)\n",
    "# Define a Select widget for the Member State filter\n",
    "member_state_select = pn.widgets.Select(name='Member State', options=member_states)"
   ]
  },
  {
   "cell_type": "code",
   "execution_count": null,
   "id": "154f0116",
   "metadata": {},
   "outputs": [],
   "source": [
    "def f(x):\n",
    "    return x*x"
   ]
  },
  {
   "cell_type": "code",
   "execution_count": null,
   "id": "aa24894a",
   "metadata": {},
   "outputs": [],
   "source": [
    "import hvplot.pandas\n",
    "import holoviews as hv\n",
    "hv.extension('bokeh')\n",
    "from holoviews import opts\n",
    "from holoviews import streams\n",
    "\n",
    "# Define the column to use for the x-axis\n",
    "x_col = 'Feed Price (€/Tonne)'\n",
    "\n",
    "# Define the plot title\n",
    "title = 'Feed Price Distribution'\n",
    "\n",
    "# Create a stream that updates the plot data whenever a filter value changes\n",
    "filter_stream = streams.Stream.define(\n",
    "    'Filter',\n",
    "    Year=year_slider,\n",
    "    Week=week_slider,\n",
    "    Member_State=member_state_select,\n",
    "    Category=category_select,\n",
    ")\n",
    "\n",
    "# Create a histogram of the feed price data\n",
    "feed_price_hist = df[x_col].hvplot.hist(y='Feed Price (€/Tonne)', title=title).opts(show_grid=True)\n",
    "\n",
    "# Define a function that updates the plot data based on the selected filters\n",
    "def update_plot(new_values):\n",
    "    Year = new_values['Year']\n",
    "    Week = new_values['Week']\n",
    "    Member_State = new_values['Member_State']\n",
    "    Category = new_values['Category']\n",
    "    \n",
    "    plot_data = df[(df['Year'].isin([Year])) & \n",
    "                   (df['Week'].isin([Week])) & \n",
    "                   (df['Member State'].isin([Member_State])) & \n",
    "                   (df['Category'].isin([Category]))]\n",
    "    return plot_data[x_col].hvplot.hist(y='Feed Price (€/Tonne)', title=title).opts(show_grid=True)\n",
    "\n",
    "\n",
    "# Add a callback that updates the plot data whenever a filter value changes\n",
    "#filter_stream.add_subscriber(update_plot)\n",
    "\n",
    "\n",
    "\n",
    "# Display the histogram\n",
    "feed_price_hist\n"
   ]
  },
  {
   "cell_type": "code",
   "execution_count": null,
   "id": "1470227c",
   "metadata": {},
   "outputs": [],
   "source": [
    "import panel as pn\n",
    "import seaborn as sns\n",
    "import matplotlib.pyplot as plt\n",
    "\n",
    "pn.extension()\n",
    "\n",
    "# Define a MultiSelect widget for the Category filter\n",
    "category_select = pn.widgets.MultiSelect(name='Category', options=categories)\n",
    "\n",
    "# Define a slider widget for the Year and Week filter\n",
    "year_slider = pn.widgets.IntSlider(name='Year', start=2021, end=2022, step=1)\n",
    "week_slider = pn.widgets.IntSlider(name='Week', start=1, end=52, step=1)\n",
    "# Define a Select widget for the Member State filter\n",
    "member_state_select = pn.widgets.Select(name='Member State', options=member_states)\n",
    "\n",
    "# Define a Select widget for the column name\n",
    "column_name_select = pn.widgets.Select(name='Column Name', options=list(df.columns))\n",
    "\n",
    "def plot_histogram(df, column_name, title):\n",
    "    sns.histplot(data = df, x = column_name, bins = 20, kde = True, color = 'y')\n",
    "    plt.title(title)\n",
    "    plt.xlabel(column_name)\n",
    "    plt.ylabel('Frequency')\n",
    "\n",
    "\n",
    "pn.interact(plot_histogram, df=df, column_name=column_name_select, title='Distribution of Feed Price')\n",
    "\n",
    "\n"
   ]
  },
  {
   "cell_type": "code",
   "execution_count": null,
   "id": "0f590a30",
   "metadata": {},
   "outputs": [],
   "source": [
    "import matplotlib.pyplot as plt\n",
    "from matplotlib.widgets import Slider\n",
    "\n",
    "# Create the plot\n",
    "plot_histogram(df, 'Feed Price (€/Tonne)', 'Distribution of Feed Price', 'Feed Price (€/Tonne)')\n",
    "\n",
    "# Add a slider to the plot\n",
    "ax_slider = plt.axes([0.25, 0.1, 0.65, 0.03])\n",
    "slider = Slider(ax_slider, 'Feed Price (€/Tonne)', df['Feed Price (€/Tonne)'].min(), df['Feed Price (€/Tonne)'].max(), valinit=df['Feed Price (€/Tonne)'].max())\n",
    "\n",
    "\n",
    "def update(val):\n",
    "    x_range = slider.val\n",
    "    plt.xlim(0, x_range)\n",
    "    plt.draw()\n",
    "\n",
    "slider.on_changed(update)\n",
    "\n",
    "plt.show()"
   ]
  },
  {
   "cell_type": "code",
   "execution_count": null,
   "id": "4911f904",
   "metadata": {},
   "outputs": [],
   "source": [
    "# from bokeh.plotting import figure, show\n",
    "# from bokeh.models import ColumnDataSource, RangeSlider\n",
    "\n",
    "import matplotlib.pyplot as plt\n",
    "from matplotlib.widgets import Slider\n",
    "\n",
    "def plot_histogram(df, x_col, title, x_label, week=None, year=None):\n",
    "    # Select data for the given week and year\n",
    "    if week is not None:\n",
    "        df = df[df['Week'] == week]\n",
    "    if year is not None:\n",
    "        df = df[df['Year'] == year]\n",
    "    \n",
    "    # Create the histogram\n",
    "    plt.hist(df[x_col], bins=20)\n",
    "    plt.title(title)\n",
    "    plt.xlabel(x_label)\n",
    "    plt.ylabel('Number of Observations')\n",
    "\n",
    "# Create the plot\n",
    "plot_histogram(df, 'Feed Price (€/Tonne)', 'Distribution of Feed Price', 'Feed Price (€/Tonne)')\n",
    "\n",
    "# Add a slider for the week\n",
    "ax_slider_week = plt.axes([0.9, 0.1, 0.03, 0.65])\n",
    "slider_week = Slider(ax_slider_week, 'Week', df['Week'].min(), df['Week'].max(), valinit=df['Week'].max(), valstep=1, orientation='vertical')\n",
    "\n",
    "# Add a slider for the year\n",
    "ax_slider_year = plt.axes([0.95, 0.1, 0.03, 0.65])\n",
    "slider_year = Slider(ax_slider_year, 'Year', df['Year'].min(), df['Year'].max(), valinit=df['Year'].max(), valstep=1, orientation='vertical')\n",
    "\n",
    "def update(val):\n",
    "    week = int(slider_week.val)\n",
    "    year = int(slider_year.val)\n",
    "    plot_histogram(df, 'Feed Price (€/Tonne)', 'Distribution of Feed Price', 'Feed Price (€/Tonne)', week=week, year=year)\n",
    "    plt.draw()\n",
    "\n",
    "slider_week.on_changed(update)\n",
    "slider_year.on_changed(update)\n",
    "\n",
    "plt.show()\n",
    "\n"
   ]
  },
  {
   "cell_type": "code",
   "execution_count": null,
   "id": "cc7a0c10",
   "metadata": {},
   "outputs": [],
   "source": [
    "# Forward fill the missing values in the \"Price (€/Tonne)\" column\n",
    "df[\"Feed Price (€/Tonne)\"].ffill(inplace=True)\n",
    "\n",
    "# Check result\n",
    "print(df)"
   ]
  },
  {
   "cell_type": "code",
   "execution_count": null,
   "id": "7e82e637",
   "metadata": {},
   "outputs": [],
   "source": [
    "if df.isnull().any().any():\n",
    "    print(\"There are nan values in the dataframe.\")\n",
    "else:\n",
    "    print(\"There are no nan values in the dataframe.\")"
   ]
  },
  {
   "cell_type": "code",
   "execution_count": null,
   "id": "84448c99",
   "metadata": {},
   "outputs": [],
   "source": [
    "if df.isin([np.inf, -np.inf]).any().any():\n",
    "    print(\"There are inf values in the dataframe.\")\n",
    "else:\n",
    "    print(\"There are no inf values in the dataframe.\")"
   ]
  },
  {
   "cell_type": "code",
   "execution_count": null,
   "id": "d2dfd15f",
   "metadata": {},
   "outputs": [],
   "source": [
    "# Plot distribution of 'Price (€/Tonne)' to check for any change to distribution after imputation of missing values\n",
    "plot_histogram(df, 'Feed Price (€/Tonne)', 'Distribution of Feed Price', 'Feed Price (€/Tonne)')\n",
    "\n",
    "# Save the image else where to be used in report\n",
    "plt.savefig('./Images/Img2_after_imputation_histogram.svg')"
   ]
  },
  {
   "cell_type": "code",
   "execution_count": null,
   "id": "66516577",
   "metadata": {},
   "outputs": [],
   "source": []
  },
  {
   "cell_type": "code",
   "execution_count": null,
   "id": "1bd57c43",
   "metadata": {},
   "outputs": [],
   "source": [
    "# Violin plot of price distribution of cattle by country\n",
    "plt.title('Distribution of Cattle Price')\n",
    "sns.swarmplot(data = df, x=df['Member State'], y=df['Cattle Price'], hue = 'Category')\n",
    "plt.legend(bbox_to_anchor=(1.02, 1), loc='upper left', borderaxespad=0);\n",
    "\n",
    "# Save the image else where to be used in report\n",
    "plt.savefig('./Images/Img3_violin_plot.svg')"
   ]
  },
  {
   "cell_type": "code",
   "execution_count": null,
   "id": "acb7ba71",
   "metadata": {},
   "outputs": [],
   "source": [
    "import matplotlib.pyplot as plt\n",
    "from matplotlib.widgets import Slider, Dropdown\n",
    "\n",
    "# Create the plot\n",
    "plt.title('Distribution of Cattle Price')\n",
    "sns.swarmplot(data = df, x=df['Member State'], y=df['Cattle Price'], hue = 'Category')\n",
    "plt.legend(bbox_to_anchor=(1.02, 1), loc='upper left', borderaxespad=0)\n",
    "\n",
    "# Add a slider to the plot\n",
    "ax_slider = plt.axes([0.25, 0.1, 0.65, 0.03])\n",
    "slider = Slider(ax_slider, 'Year', df['Year'].min(), df['Year'].max(), valinit=df['Year'].min())\n",
    "\n",
    "# Add a dropdown menu to the plot\n",
    "ax_dropdown = plt.axes([0.25, 0.15, 0.65, 0.03])\n",
    "dropdown = Dropdown(ax_dropdown, 'Category', df['Category'].unique())\n",
    "\n",
    "def update(val):\n",
    "    year = int(slider.val)\n",
    "    category = dropdown.value\n",
    "    df_year_category = df[(df['Year'] == year) & (df['Category'] == category)]\n",
    "    sns.swarmplot(data = df_year_category, x=df_year_category['Member State'], y=df_year_category['Cattle Price'], hue = 'Category')\n",
    "    plt.draw()\n",
    "\n",
    "slider.on_changed(update)\n",
    "dropdown.on_changed(update)\n",
    "\n",
    "plt.show()"
   ]
  },
  {
   "cell_type": "code",
   "execution_count": null,
   "id": "7392ae38",
   "metadata": {},
   "outputs": [],
   "source": [
    "from bokeh.plotting import figure, show\n",
    "from bokeh.models import ColumnDataSource, CategoricalColorMapper, Slider\n",
    "from bokeh.layouts import column\n",
    "\n",
    "# Create a ColumnDataSource from the dataframe\n",
    "source = ColumnDataSource(df)\n",
    "\n",
    "# Map the 'Category' column to colors\n",
    "color_mapper = CategoricalColorMapper(factors=df['Category'].unique(), palette=['red', 'green', 'blue'])\n",
    "\n",
    "# Create the plot\n",
    "p = figure(title='Distribution of Cattle Price', x_range=df['Member State'].unique())\n",
    "p.circle(x='Member State', y='Cattle Price', source=source, color={'field': 'Category', 'transform': color_mapper})\n",
    "\n",
    "# Add a slider to the plot\n",
    "slider = Slider(start=df['Year'].min(), end=df['Year'].max(), value=df['Year'].min(), step=1, title='Year')\n",
    "\n",
    "# Update the plot based on the slider value\n",
    "def update_plot(attr, old, new):\n",
    "    year = slider.value\n",
    "    df_year = df[df['Year'] == year]\n",
    "    source.data = ColumnDataSource(df_year).data\n",
    "\n",
    "slider.on_change('value', update_plot)\n",
    "\n",
    "# Show the plot\n",
    "show(column(p, slider))"
   ]
  },
  {
   "cell_type": "code",
   "execution_count": null,
   "id": "410a9514",
   "metadata": {},
   "outputs": [],
   "source": [
    "# Compute the Pearson correlation between all pairs of columns\n",
    "c_df = df.corr(method='pearson')\n",
    "\n",
    "# Create a figure and axes\n",
    "fig, ax = plt.subplots(figsize=(20, 15))\n",
    "\n",
    "# Use the seaborn heatmap function to create a heatmap of the correlations\n",
    "sns.heatmap(c_df, cmap='YlOrBr', annot=True)\n",
    "\n",
    "# Set the plot title and labels\n",
    "plt.title('Correlation Heatmap')\n",
    "plt.xlabel('Columns')\n",
    "plt.ylabel('Columns')\n",
    "\n",
    "# Show the plot\n",
    "plt.show()\n",
    "\n",
    "# Save the image else where to be used in report\n",
    "plt.savefig('./Images/Img4_pearson_corr_heatmap.svg')"
   ]
  },
  {
   "cell_type": "markdown",
   "id": "cf1c78ba",
   "metadata": {},
   "source": [
    "The custom_barplot function is a custom function for visualizing the distribution of a column in a Pandas DataFrame. The function takes a DataFrame (df1) and a column name (col1) as input and creates a figure with four subplots: a histogram, a density plot, a Q-Q plot, and a box plot of the column.\n",
    "\n",
    "The first two lines of the function check the size of the column and, if it has more than 5000 values, select a random sample of 5000 values from the column. This is done to avoid warnings about the size of the data being used with the Shapiro-Wilk test, which is unreliable with sample sizes larger than 5000, and for performance reasons.\n",
    "\n",
    "The function then creates a figure and a 2x2 grid of subplots using plt.subplots. The histogram and density plot of the column are plotted using the plot method of the Pandas Series with the kind parameter set to 'hist' and 'kde', respectively. The Q-Q plot is created using the probplot function from the scipy.stats module. The box plot of the column is plotted using the plot method of the Pandas Series with the kind parameter set to 'box'.\n",
    "\n",
    "Finally, the function calls the shapiro_test function to perform a Shapiro-Wilk test of normality on the column and returns the result as a tuple containing the status of the test (either 'Normal' or 'Not normal'), the color to use for the plot title, and the p-value of the test. The function then adds a plot title to the figure with the result of the normality test and the p-value."
   ]
  },
  {
   "cell_type": "markdown",
   "id": "0a09284c",
   "metadata": {},
   "source": [
    "There are a few ways you can improve the code:\n",
    "\n",
    "Make the custom_barplot function more flexible by allowing it to accept multiple columns and countries, and to customize the title and labels of the plots. This way, you can use the function to create plots for different combinations of columns and countries without having to modify the function itself.\n",
    "\n",
    "Use more descriptive and meaningful variable names. This can make the code easier to understand and maintain.\n",
    "\n",
    "Use the seaborn library to create the plots. This library provides a variety of high-level plotting functions that can make your plots more visually appealing and easier to create.\n",
    "\n",
    "Consider using the pandas plot method to create the plots. This method provides a convenient way to create various types of plots using the DataFrame and Series objects.\n",
    "\n",
    "Use the matplotlib subplots function to create the plots. This function allows you to specify the number of rows and columns of subplots, and returns a tuple of the Figure and Axes objects. This can be more convenient than creating the plots manually.\n",
    "\n",
    "Use matplotlib tight_layout function to adjust the layout of the plots. This can help avoid overlapping plots and text, and make the plots more visually appealing.\n",
    "\n",
    "Consider using the scipy anderson_ksamp function to test for normality instead of the shapiro function. The anderson_ksamp"
   ]
  },
  {
   "cell_type": "markdown",
   "id": "c16b03cd",
   "metadata": {},
   "source": [
    "### Generate a Q-Q plot to compare the distribution of data to a theoretical distribution (e.g. normal)\n",
    "### The plot shows the quantiles of the data against the quantiles of the theoretical distribution"
   ]
  },
  {
   "cell_type": "code",
   "execution_count": null,
   "id": "ad907d43",
   "metadata": {},
   "outputs": [],
   "source": [
    "# Generate density plots, box plots and Q-Q plot for cattle prices in France and Ireland\n",
    "# The density plots show the distribution of the data, the box plots provide summary statistics and use a Q-Q plot \n",
    "# to assess the normality of the data. If the data is normally distributed, the points on the plot should lie close\n",
    "# to a straight line\n",
    "density_plot_title = 'Cattle Price Density Plot'\n",
    "box_plot_title = 'Cattle Price Box Plot'\n",
    "custom_density_plot(df, ['France', 'Ireland'], \n",
    "                    'Cattle Price', \n",
    "                    'Q-Q Plots of Cattle Prices in Ireland and France', \n",
    "                    'Country', \n",
    "                    'Cattle Price',\n",
    "                    density_plot_title, \n",
    "                    box_plot_title)\n",
    "\n",
    "# Save the image else where to be used in report\n",
    "plt.savefig('./Images/Img4_pearson_corr_cattle_price.svg')"
   ]
  },
  {
   "cell_type": "code",
   "execution_count": null,
   "id": "0dfad726",
   "metadata": {},
   "outputs": [],
   "source": [
    "# Generate density plots, box plots and Q-Q plot for feed prices in France and Ireland\n",
    "density_plot_title = 'Feed Price Density Plot'\n",
    "box_plot_title = 'Feed Price Box Plot'\n",
    "custom_density_plot(df, ['France', 'Ireland'], \n",
    "                    'Feed Price (€/Tonne)', \n",
    "                    'Q-Q Plots of Feed Prices in Ireland and France', \n",
    "                    'Country', \n",
    "                    'Feed Price',\n",
    "                    density_plot_title, \n",
    "                    box_plot_title)\n",
    "\n",
    "# Save the image else where to be used in report\n",
    "plt.savefig('./Images/Img5_pearson_corr_feed_price.svg')"
   ]
  },
  {
   "cell_type": "markdown",
   "id": "fbfecd12",
   "metadata": {},
   "source": [
    "# Statistics"
   ]
  },
  {
   "cell_type": "markdown",
   "id": "6538693c",
   "metadata": {},
   "source": [
    "## Levene's test\n",
    "\n",
    "To check if the variances of two samples are equal, you can use the Levene's test, which is a statistical test that compares the variances of two or more samples."
   ]
  },
  {
   "cell_type": "code",
   "execution_count": null,
   "id": "62d444e9",
   "metadata": {},
   "outputs": [],
   "source": [
    "#H0 = varience are equal\n",
    "#H1 = variance are not equal"
   ]
  },
  {
   "cell_type": "code",
   "execution_count": null,
   "id": "e5b8a0b6",
   "metadata": {},
   "outputs": [],
   "source": [
    "# Extract columns for t-test\n",
    "ireland_beef = df[df['Member State'] == 'Ireland']['Cattle Price']\n",
    "france_beef = df[df['Member State'] == 'France']['Cattle Price']\n",
    "\n",
    "# Perform Levene's test\n",
    "statistic, p_value = stats.levene(ireland_beef, france_beef)\n",
    "\n",
    "print(\"statistic: \", statistic)\n",
    "print(\"p-value: \", p_value)"
   ]
  },
  {
   "cell_type": "markdown",
   "id": "d0ac999c",
   "metadata": {},
   "source": [
    "If the p-value is less than the predetermined threshold, 0.05, you can conclude that the variances of the two samples are not equal. In that case, you may need to use a different statistical test that does not assume equal variances, such as the Welch's t-test or the Brown-Forsythe test. However our p-value is 2.48 which is greater than 0.05. Therefore, it means that the observed results are not statistically significant and it is not possible to reject the null hypothesis. This does not necessarily mean that the null hypothesis is true, but rather that the observed data do not provide sufficient evidence to reject the null hypothesis.\n",
    "\n",
    "*It's important to note that the Levene's test assumes that the data are normally distributed. If this assumption is not met, you may need to use a different test to compare the variances of the two samples.*"
   ]
  },
  {
   "cell_type": "markdown",
   "id": "54a52a94",
   "metadata": {},
   "source": [
    "## T-test"
   ]
  },
  {
   "cell_type": "code",
   "execution_count": null,
   "id": "31b8fd6c",
   "metadata": {},
   "outputs": [],
   "source": [
    "#H0 = means are equal\n",
    "#H1 = means are not equal"
   ]
  },
  {
   "cell_type": "code",
   "execution_count": null,
   "id": "72a0aef2",
   "metadata": {},
   "outputs": [],
   "source": [
    "# Perform t-test\n",
    "t_statistic, p_value = stats.ttest_ind(ireland_beef, france_beef)\n",
    "\n",
    "print(\"t-statistic: \", t_statistic)\n",
    "print(\"p-value: \", p_value)"
   ]
  },
  {
   "cell_type": "markdown",
   "id": "04eae41d",
   "metadata": {},
   "source": [
    "## Non Parametric Test - Mann-Whitney U Test"
   ]
  },
  {
   "cell_type": "markdown",
   "id": "c66edf50",
   "metadata": {},
   "source": [
    "#### H0 = no difference between the samples\n",
    "#### H1 = there is a difference between the samples"
   ]
  },
  {
   "cell_type": "code",
   "execution_count": null,
   "id": "0b94f0fc",
   "metadata": {},
   "outputs": [],
   "source": [
    "ireland_feed = df[df['Member State'] == 'Ireland']['Feed Price (€/Tonne)']\n",
    "france_feed = df[df['Member State'] == 'France']['Feed Price (€/Tonne)']\n",
    "\n",
    "statistic, p_value = mannwhitneyu(ireland_feed, france_feed)\n",
    "\n",
    "print(\"U-statistic: \", statistic)\n",
    "print(\"p-value: \", p_value)"
   ]
  },
  {
   "cell_type": "markdown",
   "id": "176aecaf",
   "metadata": {},
   "source": [
    "The U-statistic is a measure of the difference between the two samples, and the p-value is used to determine the statistical significance of the difference. If the p-value is less than 0.05, it can be concluded that there is a significant difference between the two samples."
   ]
  },
  {
   "cell_type": "markdown",
   "id": "776646c3",
   "metadata": {},
   "source": [
    "The U-statistic is a measure of the difference between two samples in a Mann-Whitney U test. It is calculated as the sum of the ranks of the sample with the smaller size in the combined sample.\n",
    "\n",
    "In the Mann-Whitney U test, the null hypothesis is that there is no difference between the two samples. The alternative hypothesis is that there is a difference between the samples. The U-statistic is used to determine the statistical significance of the difference between the samples.\n",
    "\n",
    "If the U-statistic is small, it suggests that there is a significant difference between the samples. This is because a small U-statistic indicates that the ranks of the smaller sample are concentrated at the extremes of the combined sample, which suggests that the distributions of the two samples are different. On the other hand, if the U-statistic is large, it suggests that there is not a significant difference between the samples.\n",
    "\n",
    "The U-statistic can be used in conjunction with the p-value to make a decision about the null hypothesis. If the p-value is less than 0.05, it can be concluded that there is a significant difference between the samples, and the null hypothesis can be rejected."
   ]
  },
  {
   "cell_type": "markdown",
   "id": "533fdbf0",
   "metadata": {},
   "source": [
    "## Non Parametric Test - Wilcoxon Signed-rank test"
   ]
  },
  {
   "cell_type": "markdown",
   "id": "686f971d",
   "metadata": {},
   "source": [
    "not going to work because the samples are independent of each other"
   ]
  },
  {
   "cell_type": "code",
   "execution_count": null,
   "id": "6b0dbadb",
   "metadata": {},
   "outputs": [],
   "source": [
    "# from scipy.stats import wilcoxon\n",
    "\n",
    "# statistic, p_value = wilcoxon(ireland_feed, france_feed)\n",
    "\n",
    "# print(\"Wilcoxon statistic: \", statistic)\n",
    "# print(\"p-value: \", p_value)"
   ]
  },
  {
   "cell_type": "code",
   "execution_count": null,
   "id": "1ef5dee8",
   "metadata": {},
   "outputs": [],
   "source": [
    "len(ireland_feed)"
   ]
  },
  {
   "cell_type": "code",
   "execution_count": null,
   "id": "50789211",
   "metadata": {},
   "outputs": [],
   "source": [
    "len(france_feed)"
   ]
  },
  {
   "cell_type": "markdown",
   "id": "3951333a",
   "metadata": {},
   "source": [
    "The Wilcoxon statistic is a measure of the difference between the two samples, and the p-value is used to determine the statistical significance of the difference. If the p-value is less than 0.05, it can be concluded that there is a significant difference between the two samples.\n",
    "\n",
    "It's important to note that the Wilcoxon signed-rank test is used when the samples are related, meaning that the observations in one sample are paired with observations in the other sample. This test is not appropriate for independent samples."
   ]
  },
  {
   "cell_type": "markdown",
   "id": "e0411dfb",
   "metadata": {},
   "source": [
    "## Non Parametric Test - Chi-Square Test"
   ]
  },
  {
   "cell_type": "markdown",
   "id": "5c2df896",
   "metadata": {},
   "source": [
    "The hypothesis test for a chi-square test is used to determine if there is a significant association between two categorical variables. The null hypothesis is that there is no association between the two variables, and the alternative hypothesis is that there is an association between the variables.\n",
    "\n",
    "To perform the test, a contingency table is created to summarize the counts of each combination of the two variables. The chi-square test is then applied to the contingency table to determine the statistical significance of the association between the variables.\n",
    "\n",
    "If the p-value obtained from the chi-square test is less than the chosen significance level (typically 0.05), it can be concluded that there is a significant association between the two variables, and the null hypothesis can be rejected. On the other hand, if the p-value is greater than the significance level, it can be concluded that there is not a significant association between the variables, and the null hypothesis is accepted.\n",
    "\n",
    "It's important to note that the chi-square test is used to determine if there is a significant association between two categorical variables. It is not appropriate for continuous or ordinal variables."
   ]
  },
  {
   "cell_type": "code",
   "execution_count": null,
   "id": "b36f52f2",
   "metadata": {},
   "outputs": [],
   "source": [
    "# Create contingency table\n",
    "table = pd.crosstab(df['Feed Price (€/Tonne)'], df['Cattle Price'])\n",
    "\n",
    "statistic, p_value, degrees_of_freedom, expected = chi2_contingency(table)\n",
    "\n",
    "print(\"Chi-square statistic: \", statistic)\n",
    "print(\"p-value: \", p_value)\n",
    "print(\"degrees of freedom: \", degrees_of_freedom)\n",
    "print(\"expected frequencies: \", expected)"
   ]
  },
  {
   "cell_type": "markdown",
   "id": "9169ccd0",
   "metadata": {},
   "source": [
    "The chi-square statistic is a measure of the difference between the observed and expected frequencies in the contingency table. It is calculated as the sum of the squared differences between the observed and expected frequencies, divided by the expected frequencies. The larger the chi-square statistic, the stronger the evidence against the null hypothesis (i.e., the more evidence there is for a significant association between the variables).\n",
    "\n",
    "The p-value is used to determine the statistical significance of the association between the variables. It is the probability of obtaining a chi-square statistic as large as or larger than the observed value, given that the null hypothesis is true. If the p-value is less than the chosen significance level (typically 0.05), it can be concluded that there is a significant association between the two variables, and the null hypothesis can be rejected. On the other hand, if the p-value is greater than the significance level, it can be concluded that there is not a significant association between the variables, and the null hypothesis is accepted.\n",
    "\n",
    "The degrees of freedom for a chi-square test are equal to the number of rows in the contingency table minus 1 multiplied by the number of columns in the table minus 1. The degrees of freedom are used to determine the critical value of the chi-square statistic, which is used to determine the p-value.\n",
    "\n",
    "The expected frequencies are the frequencies that would be expected in each cell of the contingency table if the null hypothesis were true. They are calculated by taking the product of the row and column totals and dividing by the sample size. The expected frequencies are used to calculate the chi-square statistic and determine the statistical significance of the association between the variables."
   ]
  },
  {
   "cell_type": "markdown",
   "id": "96e6e64a",
   "metadata": {},
   "source": [
    "## Fisher's Extract Test"
   ]
  },
  {
   "cell_type": "markdown",
   "id": "1c8a524f",
   "metadata": {},
   "source": [
    "The hypothesis test for a Fisher's exact test is used to determine if there is a significant association between two categorical variables. The null hypothesis is that there is no association between the two variables, and the alternative hypothesis is that there is an association between the variables.\n",
    "\n",
    "To perform the test, a contingency table is created to summarize the counts of each combination of the two variables. The Fisher's exact test is then applied to the contingency table to determine the statistical significance of the association between the variables.\n",
    "\n",
    "If the p-value obtained from the Fisher's exact test is less than the chosen significance level (typically 0.05), it can be concluded that there is a significant association between the two variables, and the null hypothesis can be rejected. On the other hand, if the p-value is greater than the significance level, it can be concluded that there is not a significant association between the variables, and the null hypothesis is accepted.\n",
    "\n",
    "It's important to note that the Fisher's exact test is used when the sample size is small or when the expected frequencies in the contingency table are small. It is not as powerful as the chi-square test for larger samples."
   ]
  },
  {
   "cell_type": "code",
   "execution_count": null,
   "id": "c6961a41",
   "metadata": {},
   "outputs": [],
   "source": [
    "# from scipy.stats import fisher_exact\n",
    "\n",
    "# # Create contingency table\n",
    "# table = pd.crosstab(df['Product'], df['Price'])\n",
    "\n",
    "# odds_ratio, p_value = fisher_exact(table)\n",
    "\n",
    "# print(\"Odds ratio: \", odds_ratio)\n",
    "# print(\"p-value: \", p_value)"
   ]
  },
  {
   "cell_type": "markdown",
   "id": "82d7b331",
   "metadata": {},
   "source": [
    "The sample size for a Fisher's exact test is considered small when the expected frequencies in the contingency table are less than 5. When the expected frequencies are less than 5, the chi-square test may not be reliable due to the underlying assumptions of the test. In such cases, the Fisher's exact test is a more appropriate alternative.\n",
    "\n",
    "It's important to note that the Fisher's exact test is generally less powerful than the chi-square test, which means that it may be less able to detect significant differences between the observed and expected frequencies in the contingency table. As a result, it is generally recommended to use the chi-square test when the sample size is larger and the expected frequencies are greater than 5.\n",
    "\n",
    "It's also worth noting that the sample size for a statistical test is not the only factor that should be considered when deciding which test to use. Other factors, such as the nature of the data and the research question being addressed, should also be taken into account."
   ]
  },
  {
   "cell_type": "markdown",
   "id": "72207d49",
   "metadata": {},
   "source": [
    "## F-test"
   ]
  },
  {
   "cell_type": "markdown",
   "id": "37c6dd6a",
   "metadata": {},
   "source": [
    "The hypothesis test for an F-test is used to determine if there is a significant difference between the means of two or more groups. The null hypothesis is that there is no difference between the means of the groups, and the alternative hypothesis is that there is a difference between the means of the groups.\n",
    "\n",
    "To perform the test, the F-statistic is calculated as the ratio of the mean square between groups (MSB) to the mean square within groups (MSW). The p-value is then calculated using the F-distribution, which is the distribution of the F-statistic under the null hypothesis.\n",
    "\n",
    "If the p-value obtained from the F-test is less than the chosen significance level (typically 0.05), it can be concluded that there is a significant difference between the means of the groups, and the null hypothesis can be rejected. On the other hand, if the p-value is greater than the significance level, it can be concluded that there is not a significant difference between the means of the groups, and the null hypothesis is accepted.\n",
    "\n",
    "It's important to note that the F-test is used to compare the means of two or more groups. It is not appropriate for comparing the means of two pairs of samples. To compare the means of two pairs of samples, you can use a t-test or a paired t-test."
   ]
  },
  {
   "cell_type": "code",
   "execution_count": null,
   "id": "e25bc002",
   "metadata": {},
   "outputs": [],
   "source": [
    "# Perform F-test\n",
    "statistic, p_value = f_oneway(ireland_beef, france_beef)\n",
    "\n",
    "print(\"F-statistic: \", statistic)\n",
    "print(\"p-value: \", p_value)"
   ]
  },
  {
   "cell_type": "markdown",
   "id": "deee81dc",
   "metadata": {},
   "source": [
    "The F-statistic is a measure of the ratio of the variance between the groups to the variance within the groups. It is calculated as the ratio of the mean square between groups (MSB) to the mean square within groups (MSW). The larger the F-statistic, the stronger the evidence against the null hypothesis (i.e., the more evidence there is for a significant difference between the means of the groups).\n",
    "\n",
    "The p-value is used to determine the statistical significance of the difference between the means of the groups. It is the probability of obtaining an F-statistic as large as or larger than the observed value, given that the null hypothesis is true. If the p-value is less than the chosen significance level (typically 0.05), it can be concluded that there is a significant difference between the means of the groups, and the null hypothesis can be rejected. On the other hand, if the p-value is greater than the significance level, it can be concluded that there is not a significant difference between the means of the groups, and the null hypothesis is accepted."
   ]
  },
  {
   "cell_type": "markdown",
   "id": "5d997e4e",
   "metadata": {},
   "source": [
    "## Anova"
   ]
  },
  {
   "cell_type": "markdown",
   "id": "1a2a8b9b",
   "metadata": {},
   "source": [
    "Assumptions\n",
    "1. Independence\n",
    "2. Normally disributed\n",
    "3. Quality of Variance"
   ]
  },
  {
   "cell_type": "markdown",
   "id": "51406b40",
   "metadata": {},
   "source": [
    "#### H0 = means are equal\n",
    "#### H1 = at least one is not equal"
   ]
  },
  {
   "cell_type": "markdown",
   "id": "c3d33e58",
   "metadata": {},
   "source": [
    "One-way ANOVA and two-way ANOVA are both statistical tests used to compare the means of groups. The main difference between the two tests is the number of independent variables being considered.\n",
    "\n",
    "One-way ANOVA is used to compare the means of three or more groups, where there is only one independent variable. For example, if you want to compare the mean heights of three different species of plants, species would be the independent variable, and height would be the dependent variable. One-way ANOVA is used to determine if there is a significant difference in the mean heights of the plants due to the effect of the species.\n",
    "\n",
    "Two-way ANOVA is used to compare the means of groups, where there are two independent variables. For example, if you want to compare the mean heights of plants grown in two different soil types and exposed to two different levels of sunlight, soil type and sunlight exposure would be the independent variables, and height would be the dependent variable. Two-way ANOVA is used to determine if there is a significant difference in the mean heights of the plants due to the combined effects of the soil type and sunlight exposure.\n",
    "\n",
    "Both one-way ANOVA and two-way ANOVA involve testing the null hypothesis that there is no difference between the means of the groups. If the p-value obtained from the test is less than the chosen significance level (typically 0.05), it can be concluded that there is a significant difference between the means of the groups, and the null hypothesis can be rejected. On the other hand, if the p-value is greater than the significance level, it can be concluded that there is not a significant difference between the means of the groups, and the null hypothesis is accepted."
   ]
  },
  {
   "cell_type": "markdown",
   "id": "01f51d21",
   "metadata": {},
   "source": [
    "# Machine Learning"
   ]
  },
  {
   "cell_type": "markdown",
   "id": "06bb21ce",
   "metadata": {},
   "source": [
    "## Supervised Learning"
   ]
  },
  {
   "cell_type": "markdown",
   "id": "f23489ff",
   "metadata": {},
   "source": [
    "models to use on continuous data\n",
    "There are several machine learning models that are well suited for working with continuous data. Some common options include:\n",
    "\n",
    "Linear regression: Linear regression is a simple and widely used model that is used to predict a continuous target variable based on one or more continuous or categorical features. It is well suited for working with continuous data and can be used for both regression and classification tasks.\n",
    "\n",
    "Ridge regression: Ridge regression is a variant of linear regression that introduces a regularization term to the model to prevent overfitting. It is well suited for working with continuous data and can be used for both regression and classification tasks.\n",
    "\n",
    "Lasso regression: Lasso regression is another variant of linear regression that introduces a regularization term to the model to prevent overfitting. It is well suited for working with continuous data and can be used for both regression and classification tasks.\n",
    "\n",
    "Support vector machines (SVMs): SVMs are a type of linear model that is commonly used for classification tasks. They are well suited for working with continuous data, as they can handle both continuous and categorical features and can be used for both classification and regression tasks.\n",
    "\n",
    "Decision trees: Decision trees are a type of tree-based model that can be used for both classification and regression tasks. They are well suited for working with continuous data, as they can handle both continuous and categorical features.\n",
    "\n",
    "Random forests: Random forests are an ensemble learning method that combines multiple decision trees to make predictions. Like decision trees, they are well suited for working with continuous data and can be used for both classification and regression tasks.\n",
    "\n",
    "Ultimately, the choice of model will depend on the specific problem you are trying to solve and the characteristics of your dataset. It is a good idea to try a few different models and evaluate their performance on your dataset to determine which model is the best fit for your problem."
   ]
  },
  {
   "cell_type": "code",
   "execution_count": null,
   "id": "32a209ce",
   "metadata": {},
   "outputs": [],
   "source": [
    "df = pd.get_dummies(df, columns=['Member State', 'Category'])\n",
    "\n",
    "# Create the independent and dependent variables\n",
    "X = df.iloc[:, :-1]\n",
    "y = df.iloc[:, -1]\n",
    "\n",
    "# Split the data into training and test sets\n",
    "X_train, X_test, y_train, y_test = train_test_split(X, y, test_size=0.2, random_state=0)"
   ]
  },
  {
   "cell_type": "markdown",
   "id": "500ab89d",
   "metadata": {},
   "source": [
    "The R2 score, also known as the coefficient of determination, is a measure of how well the model fits the data. It is defined as the proportion of the variance in the target variable that is explained by the model. An R2 score of 1.0 indicates that the model perfectly fits the data, while an R2 score of 0.0 indicates that the model does not explain any of the variance in the target variable.\n",
    "\n",
    "The mean absolute error (MAE) is a measure of the average magnitude of the errors in the model's predictions. It is calculated as the average absolute difference between the predicted values and the true values. A smaller MAE score indicates that the model's predictions are closer to the true values on average.\n",
    "\n",
    "The mean squared error (MSE) is a measure of the average squared difference between the predicted values and the true values. It is generally preferred over the MAE because it penalizes larger errors more heavily. A smaller MSE score indicates that the model's predictions are closer to the true values on average.\n",
    "\n",
    "The root mean squared error (RMSE) is the square root of the MSE, and is expressed in the same units as the target variable. It is a more interpretable measure of error, as it is expressed in the same units as the target variable. Like the MSE, a smaller RMSE score indicates that the model's predictions are closer to the true values on average.\n",
    "\n",
    "Based on the scores you provided, it looks like the model is performing very well, with an R2 score of 1.0 and very small MAE, MSE, and RMSE scores. This suggests that the model is able to accurately fit the data and make very accurate predictions. It is worth noting, however, that these scores should be interpreted in the context of the problem you are trying to solve and the characteristics of your dataset. A model with excellent performance on one dataset may not necessarily perform as well on a different dataset."
   ]
  },
  {
   "cell_type": "code",
   "execution_count": null,
   "id": "002a9c5e",
   "metadata": {},
   "outputs": [],
   "source": [
    "# def model_data(X_train, y_train, X_test, y_test):\n",
    "#     \"\"\"Models data with decision tree, random forest, linear regression,\n",
    "#     ridge, lasso, and gradient boosting.\n",
    "    \n",
    "#     Parameters:\n",
    "#         X_train (ndarray): Training data features.\n",
    "#         y_train (ndarray): Training data labels.\n",
    "#         X_test (ndarray): Test data features.\n",
    "#         y_test (ndarray): Test data labels.\n",
    "    \n",
    "#     Returns:\n",
    "#         dict: Dictionary with the evaluation scores of the different models.\n",
    "#          \"\"\"\n",
    "#     # Create a dictionary to store the results\n",
    "#     results = {}\n",
    "    \n",
    "#     # Decision Tree\n",
    "#     # Define the hyperparameter space for decision tree\n",
    "#     dt_param_grid = {'max_depth': [3, 5, 7, 9, None],\n",
    "#                      'min_samples_split': [2, 4, 6, 8, 10],\n",
    "#                      'min_samples_leaf': [1, 3, 5, 7, 9]}\n",
    "    \n",
    "#     # Create a grid search object for decision tree\n",
    "#     dt_grid_search = GridSearchCV(estimator=DecisionTreeRegressor(), param_grid=dt_param_grid, cv=5)\n",
    "    \n",
    "#     # Fit the grid search object to the training data\n",
    "#     dt_grid_search.fit(X_train, y_train)\n",
    "    \n",
    "#     # Train the model on the entire dataset using the best parameters\n",
    "#     dt_regressor = DecisionTreeRegressor(**dt_grid_search.best_params_)\n",
    "#     dt_regressor.fit(X, y)\n",
    "\n",
    "#     # Calculate the predicted value by calling a method predict()\n",
    "#     y_pred = dt_regressor.predict(X_test)\n",
    "    \n",
    "#     # Evaluate the model\n",
    "#     mae = metrics.mean_absolute_error(y_test, y_pred)\n",
    "#     mse = metrics.mean_squared_error(y_test, y_pred)\n",
    "#     rmse = np.sqrt(mse)\n",
    "#     train_score = dt_regressor.score(X_train, y_train)\n",
    "#     test_score = dt_regressor.score(X_test, y_test)\n",
    "#     r2 = metrics.r2_score(y_test, y_pred)\n",
    "#     results['Decision Tree'] = {'MAE': mae, 'MSE': mse, 'RMSE': rmse, 'Train Score': train_score, \n",
    "#                                 'Test Score': test_score, 'R2': r2}\n",
    "    \n",
    "#     # Random Forest\n",
    "#     # Define the hyperparameter space for random forest\n",
    "#     rf_param_grid = {'n_estimators': [10, 50, 100, 200, 300],\n",
    "#                      'max_depth': [3, 5, 7, 9, None],\n",
    "#                      'min_samples_split': [2, 4, 6, 8, 10],\n",
    "#                      'min_samples_leaf': [1, 3, 5, 7, 9]}\n",
    "    \n",
    "#     # Create a grid search object for random forest\n",
    "#     rf_grid_search = GridSearchCV(estimator=RandomForestRegressor(), param_grid=rf_param_grid, cv=5)\n",
    "    \n",
    "#     # Fit the grid search object to the training data\n",
    "#     rf_grid_search.fit(X_train, y_train)\n",
    "    \n",
    "#     # Train the model on the entire dataset using the best parameters\n",
    "#     rf_regressor = RandomForestRegressor(**rf_grid_search.best_params_)\n",
    "#     rf_regressor.fit(X, y)\n",
    "\n",
    "#     # Calculate the predicted value by calling a method predict()\n",
    "#     y_pred = rf_regressor.predict(X_test)\n",
    "    \n",
    "#     # Evaluate the model\n",
    "#     mae = metrics.mean_absolute_error(y_test, y_pred)\n",
    "#     mse = metrics.mean_squared_error(y_test, y_pred)\n",
    "#     rmse = np.sqrt(mse)\n",
    "#     train_score = rf_regressor.score(X_train, y_train)\n",
    "#     test_score = rf_regressor.score(X_test, y_test)\n",
    "#     r2 = metrics.r2_score(y_test, y_pred)\n",
    "#     results['Random Forest'] = {'MAE': mae, 'MSE': mse, 'RMSE': rmse, 'Train Score': train_score, \n",
    "#                                 'Test Score': test_score, 'R2': r2}\n",
    "    \n",
    "#     # Linear Regression\n",
    "#     # Model data with linear regression\n",
    "#     lr_model = LinearRegression()\n",
    "    \n",
    "#     # Define the hyperparameter space for linear regression\n",
    "#     lr_param_grid = {'normalize': [True, False],\n",
    "#                      'fit_intercept': [True, False]}\n",
    "    \n",
    "#     # Create a grid search object for linear regression\n",
    "#     lr_grid_search = GridSearchCV(estimator=lr_model, param_grid=lr_param_grid, cv=10)\n",
    "   \n",
    "#     # Train the model and search for the best hyperparameters\n",
    "#     lr_grid_search.fit(X_train, y_train)\n",
    "    \n",
    "#     # Train the model on the entire dataset using the best parameters\n",
    "#     linear_model = LinearRegression(**lr_grid_search.best_params_)\n",
    "#     linear_model.fit(X, y)\n",
    "\n",
    "#     # Make predictions\n",
    "#     y_pred = linear_model.predict(X_test)\n",
    "    \n",
    "#     # Evaluate the model\n",
    "#     mae = metrics.mean_absolute_error(y_test, y_pred)\n",
    "#     mse = metrics.mean_squared_error(y_test, y_pred)\n",
    "#     rmse = np.sqrt(mse)\n",
    "#     train_score = linear_model.score(X_train, y_train)\n",
    "#     test_score = linear_model.score(X_test, y_test)\n",
    "#     r2 = metrics.r2_score(y_test, y_pred)\n",
    "#     results['Linear Regression'] = {'MAE': mae, 'MSE': mse, 'RMSE': rmse, 'Train Score': train_score, \n",
    "#                                 'Test Score': test_score, 'R2': r2}\n",
    "    \n",
    "#     # Ridge Regression\n",
    "#     # Define the hyperparameter space for ridge regression\n",
    "#     ridge_param_grid = {'alpha': [0.01, 0.1, 1.0, 10.0, 100.0],\n",
    "#                         'normalize': [True, False],\n",
    "#                         'fit_intercept': [True, False]}\n",
    "    \n",
    "#     # Create a grid search object for ridge regression\n",
    "#     ridge_grid_search = GridSearchCV(estimator=Ridge(), param_grid=ridge_param_grid, cv=5)\n",
    "    \n",
    "#     # Fit the grid search object to the training data\n",
    "#     ridge_grid_search.fit(X_train, y_train)\n",
    "    \n",
    "#     # Train the model on the entire dataset using the best parameters\n",
    "#     ridge_regressor = Ridge(**ridge_grid_search.best_params_)\n",
    "#     ridge_regressor.fit(X, y)\n",
    "\n",
    "#     # Make predictions\n",
    "#     y_pred = ridge_regressor.predict(X_test)\n",
    "    \n",
    "#     # Evaluate the model\n",
    "#     mae = metrics.mean_absolute_error(y_test, y_pred)\n",
    "#     mse = metrics.mean_squared_error(y_test, y_pred)\n",
    "#     rmse = np.sqrt(mse)\n",
    "#     train_score = ridge_regressor.score(X_train, y_train)\n",
    "#     test_score = ridge_regressor.score(X_test, y_test)\n",
    "#     r2 = metrics.r2_score(y_test, y_pred)\n",
    "#     results['Ridge Regression'] = {'MAE': mae, 'MSE': mse, 'RMSE': rmse, 'Train Score': train_score, \n",
    "#                                 'Test Score': test_score, 'R2': r2}\n",
    "    \n",
    "#     # Lasso Regression\n",
    "#     # Define the hyperparameter space for lasso regression\n",
    "#     lasso_param_grid = {'alpha': [0.01, 0.1, 1.0, 10.0, 100.0],\n",
    "#                         'normalize': [True, False],\n",
    "#                         'fit_intercept': [True, False]}\n",
    "    \n",
    "#     # Create a grid search object for lasso regression\n",
    "#     lasso_grid_search = GridSearchCV(estimator=Lasso(), param_grid=lasso_param_grid, cv=10)\n",
    "\n",
    "#     # Fit the grid search object to the training data\n",
    "#     lasso_grid_search.fit(X_train, y_train)\n",
    "    \n",
    "#     # Train the model on the entire dataset using the best parameters\n",
    "#     lasso_regressor = Lasso(**lasso_grid_search.best_params_)\n",
    "#     lasso_regressor.fit(X, y)\n",
    "    \n",
    "#     # Make predictions\n",
    "#     y_pred = lasso_regressor.predict(X_test)\n",
    "    \n",
    "#     # Evaluate the model\n",
    "#     mae = metrics.mean_absolute_error(y_test, y_pred)\n",
    "#     mse = metrics.mean_squared_error(y_test, y_pred)\n",
    "#     rmse = np.sqrt(mse)\n",
    "#     train_score = lasso_regressor.score(X_train, y_train)\n",
    "#     test_score = lasso_regressor.score(X_test, y_test)\n",
    "#     r2 = metrics.r2_score(y_test, y_pred)\n",
    "#     results['Lasso Regression'] = {'MAE': mae, 'MSE': mse, 'RMSE': rmse, 'Train Score': train_score, \n",
    "#                                 'Test Score': test_score, 'R2': r2}\n",
    "    \n",
    "#     # Gradient Boosting\n",
    "#     # Define the hyperparameter space for gradient boosting\n",
    "#     gb_param_grid = {'loss': ['ls', 'lad', 'huber', 'quantile'],\n",
    "#                      'learning_rate': [0.01, 0.1, 1.0, 10.0, 100.0],\n",
    "#                      'n_estimators': [10, 50, 100, 200, 300],\n",
    "#                      'max_depth': [3, 5, 7, 9, None],\n",
    "#                      'min_samples_split': [2, 4, 6, 8, 10],\n",
    "#                      'min_samples_leaf': [1, 3, 5, 7, 9]}\n",
    "#     # Create a grid search object for gradient boosting\n",
    "#     gb_grid_search = GridSearchCV(estimator=GradientBoostingRegressor(), param_grid=gb_param_grid, cv=5)\n",
    "    \n",
    "#     # Fit the grid search object to the training data\n",
    "#     gb_grid_search.fit(X_train, y_train)\n",
    "    \n",
    "#     # Train the model on the entire dataset using the best parameters\n",
    "#     gb_regressor = GradientBoostingRegressor(**gb_grid_search.best_params_)\n",
    "#     gb_regressor.fit(X, y)\n",
    "\n",
    "#     # Make predictions\n",
    "#     y_pred = gb_regressor.predict(X_test)\n",
    "    \n",
    "#     # Evaluate the model\n",
    "#     mae = metrics.mean_absolute_error(y_test, y_pred)\n",
    "#     mse = metrics.mean_squared_error(y_test, y_pred)\n",
    "#     rmse = np.sqrt(mse)\n",
    "#     train_score = gb_regressor.score(X_train, y_train)\n",
    "#     test_score = gb_regressor.score(X_test, y_test)\n",
    "#     r2 = metrics.r2_score(y_test, y_pred)\n",
    "#     results['Gradient Boosting'] = {'MAE': mae, 'MSE': mse, 'RMSE': rmse, 'Train Score': train_score, \n",
    "#                                 'Test Score': test_score, 'R2': r2}\n",
    "    \n",
    "#     return results\n"
   ]
  },
  {
   "cell_type": "code",
   "execution_count": null,
   "id": "30453491",
   "metadata": {},
   "outputs": [],
   "source": [
    "# # Takes 6 hours to run\n",
    "# # Notify me when this cell is finished running\n",
    "# %%notify\n",
    "\n",
    "# # Call the model_data() function and pass it the training and test data\n",
    "# results = model_data(X_train, y_train, X_test, y_test)\n",
    "\n",
    "# # Initialize a table with the desired column names\n",
    "# table = PrettyTable(['Model', 'MAE', 'MSE', 'RMSE', 'Train Score', 'Test Score','R2'])\n",
    "\n",
    "# # Iterate over the results and add a row for each model\n",
    "# for model, scores in results.items():\n",
    "#     table.add_row([model, scores['MAE'], scores['MSE'], scores['RMSE'], scores['Train Score'], \n",
    "#                    scores['Test Score'], scores['R2']])\n",
    "\n",
    "# # Print the table\n",
    "# print(table)"
   ]
  },
  {
   "cell_type": "markdown",
   "id": "4eb6fe1e",
   "metadata": {},
   "source": [
    "This output is a table showing the performance of various machine learning models on a given dataset. The models listed are Decision Tree, Random Forest, Linear Regression, Ridge Regression, Lasso Regression, and Gradient Boosting.\n",
    "\n",
    "The table shows the following performance metrics for each model:\n",
    "\n",
    "MAE (Mean Absolute Error): This is the average absolute difference between the predicted values and the actual values. A lower MAE indicates a better fit.\n",
    "\n",
    "MSE (Mean Squared Error): This is the average squared difference between the predicted values and the actual values. A lower MSE indicates a better fit.\n",
    "\n",
    "RMSE (Root Mean Squared Error): This is the square root of the MSE. It is commonly used as a measure of the magnitude of the error. A lower RMSE indicates a better fit.\n",
    "\n",
    "Train Score: This is the score of the model on the training dataset. It is generally higher than the test score, as the model has been trained on the training data and should perform better on it.\n",
    "\n",
    "Test Score: This is the score of the model on the test dataset. It is a measure of how well the model generalizes to new, unseen data.\n",
    "\n",
    "R2: This is the coefficient of determination, which is a measure of how well the model explains the variance in the data. An R2 of 1 indicates that the model perfectly fits the data.\n",
    "\n",
    "In this table, all of the models have very low MAE, MSE, and RMSE values, as well as high train and test scores and R2 values. This suggests that all of the models are performing very well on the given dataset."
   ]
  },
  {
   "cell_type": "markdown",
   "id": "3141ea37",
   "metadata": {},
   "source": [
    "In general, a model with a low MAE, MSE, and RMSE and a high R2 score is considered to be performing well. However, you should also consider other factors such as the complexity of the model, the time it takes to train and make predictions, and its ability to generalize to new data.\n",
    "\n",
    "In this case, it looks like the Decision Tree and Random Forest models have the lowest error metrics, but their R2 scores are not as high as the other models. The Linear Regression, Ridge Regression, and Lasso models have lower error metrics and higher R2 scores, but they may be more complex and take longer to train. The Gradient Boosting model has intermediate values for the error metrics and the R2 score."
   ]
  },
  {
   "cell_type": "code",
   "execution_count": null,
   "id": "c017054d",
   "metadata": {},
   "outputs": [],
   "source": [
    "# !pip install notify-run\n",
    "\n",
    "# import notify_run\n",
    "# notify_run.register()\n",
    "\n",
    "# # Your code goes here"
   ]
  },
  {
   "cell_type": "code",
   "execution_count": null,
   "id": "9df3a82f",
   "metadata": {},
   "outputs": [],
   "source": [
    "# Set the size of the figure\n",
    "plt.figure(figsize = (12, 8))\n",
    "\n",
    "# Display the tree by calling a method plot_tree()\n",
    "tree.plot_tree(dt_regressor.fit(X_train, y_train),filled=True, rounded=True, precision=2) ;\n",
    "\n",
    "# Save the image else where to be used in report\n",
    "plt.savefig('./Images/Img4_pearson_corr_heatmap.svg')"
   ]
  },
  {
   "cell_type": "markdown",
   "id": "91534629",
   "metadata": {},
   "source": [
    "## Unsupervised Learning"
   ]
  },
  {
   "cell_type": "code",
   "execution_count": null,
   "id": "87e989c7",
   "metadata": {},
   "outputs": [],
   "source": [
    "from sklearn.preprocessing import StandardScaler\n",
    "from sklearn.cluster import KMeans\n",
    "\n",
    "if y.ndim == 1:\n",
    "    y = y.reshape(-1, 1)\n",
    "\n",
    "# Remove the target variable\n",
    "X = df.drop(columns=['Cattle Price'])\n",
    "\n",
    "# Standardize the data\n",
    "scaler = StandardScaler()\n",
    "X_scaled = scaler.fit_transform(X)\n",
    "\n",
    "# Define the hyperparameter space for the unsupervised learning algorithm\n",
    "param_grid = {'n_components': [2, 3, 4],\n",
    "              'n_clusters': [2, 3, 4]}\n",
    "\n",
    "# Define a scoring function\n",
    "def scoring_function(estimator, X, y):\n",
    "    clusters = estimator.predict(X)\n",
    "    return metrics.silhouette_score(X, clusters)\n",
    "\n",
    "# Create a grid search object\n",
    "clustering_grid_search = GridSearchCV(estimator=KMeans(), param_grid=param_grid, cv=5, scoring=scoring_function)\n",
    "\n",
    "# Fit the grid search object to the training data\n",
    "clustering_grid_search.fit(X_scaled, y)\n",
    "\n",
    "# Train the model on the entire dataset using the best parameters\n",
    "best_clustering = KMeans(**clustering_grid_search.best_params_)\n",
    "best_clustering.fit(X_scaled)\n",
    "\n",
    "# Calculate the predicted value by calling a method predict()\n",
    "y_pred = best_clustering.predict(X_scaled)"
   ]
  },
  {
   "cell_type": "markdown",
   "id": "e17839b5",
   "metadata": {},
   "source": [
    "This code uses k-means for clustering and grid search CV to find the optimal number of clusters. The code also defines a scoring function based on the silhouette score, which is a measure of how well each point is assigned to its own cluster."
   ]
  },
  {
   "cell_type": "code",
   "execution_count": null,
   "id": "cb026f81",
   "metadata": {},
   "outputs": [],
   "source": [
    "from sklearn.decomposition import PCA\n",
    "\n",
    "# Define the hyperparameter space for the unsupervised learning algorithm\n",
    "param_grid = {'n_components': [2, 3, 4],\n",
    "              'alpha': [0.1, 0.5, 1.0]}\n",
    "\n",
    "# Define a scoring function\n",
    "def scoring_function(estimator, X, y):\n",
    "    return metrics.calinski_harabasz_score(X, estimator.transform(X))\n",
    "\n",
    "# Create a grid search object\n",
    "pca_grid_search = GridSearchCV(estimator=PCA(), param_grid=param_grid, cv=5, scoring=scoring_function)\n",
    "\n",
    "# Fit the grid search object to the training data\n",
    "pca_grid_search.fit(X_scaled, y)\n",
    "\n",
    "# Train the model on the entire dataset using the best parameters\n",
    "best_pca = PCA(**pca_grid_search.best_params_)\n",
    "best_pca.fit(X_scaled)\n",
    "\n",
    "# Calculate the explained variance ratio\n",
    "explained_variance = best_pca.explained_variance_ratio_"
   ]
  },
  {
   "cell_type": "markdown",
   "id": "cd408702",
   "metadata": {},
   "source": [
    "This code uses principal component analysis (PCA) for dimensionality reduction and grid search CV to find the optimal number of components. The code also defines a scoring function based on the Calinski-Harabasz score, which is a measure of the compactness of the clusters."
   ]
  },
  {
   "cell_type": "code",
   "execution_count": null,
   "id": "18e6e799",
   "metadata": {},
   "outputs": [],
   "source": [
    "# Worked\n",
    "# Define the hyperparameter space for the clustering algorithm\n",
    "param_grid = {'n_clusters': [2, 3, 4, 5],\n",
    "              'tol': [1e-4, 1e-3, 1e-2]}\n",
    "\n",
    "# Define a scoring function\n",
    "def scoring_function(estimator, X, y):\n",
    "    return metrics.calinski_harabasz_score(X, estimator.predict(X))\n",
    "\n",
    "# Create a grid search object\n",
    "kmeans_grid_search = GridSearchCV(estimator=KMeans(), param_grid=param_grid, cv=5, scoring=scoring_function)\n",
    "\n",
    "# Fit the grid search object to the training data\n",
    "kmeans_grid_search.fit(X_scaled)\n",
    "\n",
    "# Train the model on the entire dataset using the best parameters\n",
    "best_kmeans = KMeans(**kmeans_grid_search.best_params_)\n",
    "best_kmeans.fit(X_scaled)\n",
    "\n",
    "# Calculate the cluster assignments\n",
    "cluster_assignments = best_kmeans.predict(X_scaled)\n",
    "cluster_assignments"
   ]
  },
  {
   "cell_type": "markdown",
   "id": "d05ad91e",
   "metadata": {},
   "source": [
    "This code uses the k-means clustering algorithm and grid search CV to find the optimal number of clusters. The code also defines a scoring function based on the Calinski-Harabasz score, which is a measure of the compactness and separation of the clusters."
   ]
  },
  {
   "cell_type": "code",
   "execution_count": null,
   "id": "5d8fd43f",
   "metadata": {},
   "outputs": [],
   "source": [
    "# Define the hyperparameter space for the unsupervised learning algorithm\n",
    "param_grid = {'n_clusters': [2, 3, 4],\n",
    "              'max_iter': [100, 200, 300]}\n",
    "\n",
    "# Define a scoring function\n",
    "def scoring_function(estimator, X, y):\n",
    "    return metrics.silhouette_score(X, estimator.predict(X))\n",
    "\n",
    "# Create a grid search object\n",
    "kmeans_grid_search = GridSearchCV(estimator=KMeans(), param_grid=param_grid, cv=5, scoring=scoring_function)\n",
    "\n",
    "# Fit the grid search object to the training data\n",
    "kmeans_grid_search.fit(X_scaled)\n",
    "\n",
    "# Train the model on the entire dataset using the best parameters\n",
    "best_kmeans = KMeans(**kmeans_grid_search.best_params_)\n",
    "best_kmeans.fit(X_scaled)\n",
    "\n",
    "# Calculate the cluster assignments\n",
    "cluster_assignments = best_kmeans.predict(X_scaled)\n",
    "cluster_assignments"
   ]
  },
  {
   "cell_type": "markdown",
   "id": "438dad38",
   "metadata": {},
   "source": [
    "This code uses k-means clustering for data partitioning and grid search CV to find the optimal number of clusters. The code also defines a scoring function based on the silhouette score, which is a measure of the compactness and separation of the clusters."
   ]
  },
  {
   "cell_type": "code",
   "execution_count": null,
   "id": "5a7769ac",
   "metadata": {},
   "outputs": [],
   "source": [
    "from sklearn.decomposition import PCA\n",
    "\n",
    "# Define the hyperparameter space for the unsupervised learning algorithm\n",
    "param_grid = {'n_components': [2, 3, 4, 5],\n",
    "              'tol': [1e-4, 1e-3, 1e-2]}\n",
    "\n",
    "# Define a scoring function\n",
    "def scoring_function(estimator, X, y):\n",
    "    return metrics.silhouette_score(X, estimator.transform(X))\n",
    "\n",
    "# Create a grid search object\n",
    "pca_grid_search = GridSearchCV(estimator=PCA(), param_grid=param_grid, cv=5, scoring=scoring_function)\n",
    "\n",
    "# Fit the grid search object to the training data\n",
    "pca_grid_search.fit(X_scaled)\n",
    "\n",
    "# Train the model on the entire dataset using the best parameters\n",
    "best_pca = PCA(**pca_grid_search.best_params_)\n",
    "best_pca.fit(X_scaled)\n",
    "\n",
    "# Calculate the principal components\n",
    "principal_components = best_pca.transform(X_scaled)"
   ]
  },
  {
   "cell_type": "markdown",
   "id": "e10047b6",
   "metadata": {},
   "source": [
    "This code uses principal component analysis (PCA) for dimensionality reduction and grid search CV to find the optimal number of components. The code also defines a scoring function based on the silhouette score, which is a measure of the compactness and separation of the data points in the reduced-dimensional space."
   ]
  },
  {
   "cell_type": "code",
   "execution_count": null,
   "id": "6f1b95fc",
   "metadata": {},
   "outputs": [],
   "source": [
    "from sklearn.manifold import TSNE\n",
    "from sklearn.manifold import TSNE\n",
    "from sklearn.cluster import DBSCAN\n",
    "\n",
    "# Apply a dimensionality reduction algorithm\n",
    "tsne = TSNE(n_components=2)\n",
    "X_reduced = tsne.fit_transform(X_scaled)\n",
    "\n",
    "# Apply a clustering algorithm\n",
    "dbscan = DBSCAN(eps=0.5, min_samples=5)\n",
    "clusters = dbscan.fit_predict(X_reduced)\n",
    "\n",
    "# Visualize the results\n",
    "plt.scatter(X_reduced[:, 0], X_reduced[:, 1], c=clusters)\n",
    "plt.show()"
   ]
  },
  {
   "cell_type": "markdown",
   "id": "afcda4d7",
   "metadata": {},
   "source": [
    "This code is similar to the previous example, but it uses t-distributed stochastic neighbor embedding (t-SNE) for dimensionality reduction and DBSCAN for clustering. The code also visualizes the results by plotting the data points with colors indicating the cluster to which each point belongs."
   ]
  },
  {
   "cell_type": "code",
   "execution_count": null,
   "id": "30fcebed",
   "metadata": {},
   "outputs": [],
   "source": [
    "# Define the hyperparameter space for t-SNE\n",
    "param_grid = {'perplexity': [5, 10, 20, 30, 50],\n",
    "              'learning_rate': [10, 50, 100, 200]}\n",
    "\n",
    "# Create a grid search object for t-SNE\n",
    "tsne_grid_search = GridSearchCV(estimator=TSNE(), param_grid=param_grid, cv=5)\n",
    "\n",
    "# Fit the grid search object to the training data\n",
    "tsne_grid_search.fit(X_scaled)\n",
    "\n",
    "# Train the model on the entire dataset using the best parameters\n",
    "best_tsne = TSNE(**tsne_grid_search.best_params_)\n",
    "X_tsne = best_tsne.fit_transform(X_scaled)\n",
    "\n",
    "# Define the hyperparameter space for DBSCAN\n",
    "param_grid = {'eps': [0.5, 1, 1.5, 2],\n",
    "              'min_samples': [5, 10, 15, 20]}\n",
    "\n",
    "# Create a grid search object for DBSCAN\n",
    "dbscan_grid_search = GridSearchCV(estimator=DBSCAN(), param_grid=param_grid, cv=5)\n",
    "\n",
    "# Fit the grid search object to the t-SNE transformed data\n",
    "dbscan_grid_search.fit(X_tsne)\n",
    "\n",
    "# Train the model on the entire dataset using the best parameters\n",
    "best_dbscan = DBSCAN(**dbscan_grid_search.best_params_)\n",
    "best_dbscan.fit(X_tsne)\n",
    "\n",
    "# Calculate the predicted clusters\n",
    "clusters = best_dbscan.labels_\n",
    "\n",
    "# Print the results\n",
    "#print(\"Optimal\n",
    "\n",
    "# Visualize the results\n",
    "plt.scatter(X_tsne[:, 0], X_tsne[:, 1], c=clusters)\n",
    "plt.show()\n",
    "\n",
    "# Check the performance of the model using metrics such as homogeneity, completeness, and V-measure\n",
    "print(metrics.homogeneity_score(df['target'], clusters))\n",
    "print(metrics.completeness_score(df['target'], clusters))\n",
    "print(metrics.v_measure_score(df['target'], clusters))\n",
    "      "
   ]
  },
  {
   "cell_type": "markdown",
   "id": "c386cab4",
   "metadata": {},
   "source": [
    "This code uses the t-SNE and DBSCAN algorithms, along with grid search CV, to find the optimal parameters for dimensionality reduction and clustering, respectively. The code first standardizes the data, then applies t-SNE to reduce the dimensionality of the data to two dimensions. The resulting t-SNE transformed data is then used as input to the DBSCAN algorithm, which clusters the data into different groups based on the specified parameters.\n",
    "\n",
    "This code first visualizes the results of the clustering by plotting the t-SNE transformed data points with colors representing the predicted clusters. It then calculates and prints some evaluation metrics for the clustering model, such as homogeneity, completeness, and V-measure."
   ]
  },
  {
   "cell_type": "code",
   "execution_count": null,
   "id": "50603e22",
   "metadata": {},
   "outputs": [],
   "source": [
    "from sklearn.ensemble import IsolationForest\n",
    "\n",
    "\n",
    "# Define the hyperparameter space for the anomaly detection algorithm\n",
    "param_grid = {'contamination': [0.1, 0.2, 0.3],\n",
    "              'support_fraction': [0.5, 0.6, 0.7]}\n",
    "\n",
    "# Define a scoring function\n",
    "def scoring_function(estimator, X, y):\n",
    "    return metrics.roc_auc_score(y, estimator.decision_function(X))\n",
    "\n",
    "# Create a grid search object\n",
    "isolation_forest_grid_search = GridSearchCV(estimator=IsolationForest(), param_grid=param_grid, cv=5, scoring=scoring_function)\n",
    "\n",
    "# Fit the grid search object to the training data\n",
    "isolation_forest_grid_search.fit(X_scaled)\n",
    "\n",
    "# Train the model on the entire dataset using the best parameters\n",
    "best_isolation_forest = IsolationForest(**isolation_forest_grid_search.best_params_)\n",
    "best_isolation_forest.fit(X_scaled)\n",
    "\n",
    "# Calculate the predicted scores\n",
    "scores = best_isolation_forest.decision_function(X_scaled)"
   ]
  },
  {
   "cell_type": "markdown",
   "id": "8b942847",
   "metadata": {},
   "source": [
    "This code uses the Isolation Forest algorithm and grid search CV to find the optimal contamination level and support fraction parameters for anomaly detection. The code also defines a scoring function based on the area under the ROC curve (AUC), which is a measure of the model's ability to distinguish between normal and anomalous samples.\n",
    "\n",
    "You can modify this code to use different anomaly detection algorithms and scoring functions as needed, depending on the nature of the data and the specific patterns or structures that you are trying to capture or identify. Some common anomaly detection algorithms include Isolation Forest, Local Outlier Factor, and One-Class SVM."
   ]
  },
  {
   "cell_type": "markdown",
   "id": "7a76a60d",
   "metadata": {},
   "source": [
    "## Dashboard"
   ]
  },
  {
   "cell_type": "code",
   "execution_count": null,
   "id": "c8f6e8a7",
   "metadata": {},
   "outputs": [],
   "source": [
    "import panel as pn\n",
    "\n",
    "# Create a row to hold the plot column and a table showing the daily returns\n",
    "dashboard = pn.Row(plot_column, pn.panel(daily_returns, title=\"Daily Returns\"))\n",
    "\n",
    "# Add the slider and plots/table to the dashboard\n",
    "dashboard = pn.Column(window_size_slider, dashboard, update_plots)\n",
    "\n",
    "dashboard.show()\n"
   ]
  },
  {
   "cell_type": "code",
   "execution_count": null,
   "id": "dc124f96",
   "metadata": {},
   "outputs": [],
   "source": []
  }
 ],
 "metadata": {
  "kernelspec": {
   "display_name": "Python 3 (ipykernel)",
   "language": "python",
   "name": "python3"
  },
  "language_info": {
   "codemirror_mode": {
    "name": "ipython",
    "version": 3
   },
   "file_extension": ".py",
   "mimetype": "text/x-python",
   "name": "python",
   "nbconvert_exporter": "python",
   "pygments_lexer": "ipython3",
   "version": "3.9.12"
  }
 },
 "nbformat": 4,
 "nbformat_minor": 5
}
